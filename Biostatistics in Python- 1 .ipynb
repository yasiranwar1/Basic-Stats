{
 "cells": [
  {
   "cell_type": "code",
   "execution_count": 1,
   "metadata": {},
   "outputs": [],
   "source": [
    "import pandas as pd\n",
    "import numpy as np\n",
    "from scipy import stats\n",
    "import plotly.express as px"
   ]
  },
  {
   "cell_type": "markdown",
   "metadata": {},
   "source": [
    "### Importing Data in Python"
   ]
  },
  {
   "cell_type": "code",
   "execution_count": 2,
   "metadata": {},
   "outputs": [],
   "source": [
    "df = pd.read_csv(\"practice.csv\")"
   ]
  },
  {
   "cell_type": "markdown",
   "metadata": {},
   "source": [
    "### Exploring the Dataset"
   ]
  },
  {
   "cell_type": "code",
   "execution_count": 3,
   "metadata": {},
   "outputs": [
    {
     "data": {
      "text/html": [
       "<div>\n",
       "<style scoped>\n",
       "    .dataframe tbody tr th:only-of-type {\n",
       "        vertical-align: middle;\n",
       "    }\n",
       "\n",
       "    .dataframe tbody tr th {\n",
       "        vertical-align: top;\n",
       "    }\n",
       "\n",
       "    .dataframe thead th {\n",
       "        text-align: right;\n",
       "    }\n",
       "</style>\n",
       "<table border=\"1\" class=\"dataframe\">\n",
       "  <thead>\n",
       "    <tr style=\"text-align: right;\">\n",
       "      <th></th>\n",
       "      <th>Group</th>\n",
       "      <th>Treatment</th>\n",
       "      <th>Age</th>\n",
       "      <th>Cholesterol</th>\n",
       "    </tr>\n",
       "  </thead>\n",
       "  <tbody>\n",
       "    <tr>\n",
       "      <th>0</th>\n",
       "      <td>I</td>\n",
       "      <td>A</td>\n",
       "      <td>74</td>\n",
       "      <td>6.7</td>\n",
       "    </tr>\n",
       "    <tr>\n",
       "      <th>1</th>\n",
       "      <td>I</td>\n",
       "      <td>A</td>\n",
       "      <td>68</td>\n",
       "      <td>6.7</td>\n",
       "    </tr>\n",
       "    <tr>\n",
       "      <th>2</th>\n",
       "      <td>II</td>\n",
       "      <td>B</td>\n",
       "      <td>21</td>\n",
       "      <td>5.0</td>\n",
       "    </tr>\n",
       "    <tr>\n",
       "      <th>3</th>\n",
       "      <td>I</td>\n",
       "      <td>B</td>\n",
       "      <td>66</td>\n",
       "      <td>3.7</td>\n",
       "    </tr>\n",
       "    <tr>\n",
       "      <th>4</th>\n",
       "      <td>III</td>\n",
       "      <td>A</td>\n",
       "      <td>37</td>\n",
       "      <td>10.3</td>\n",
       "    </tr>\n",
       "  </tbody>\n",
       "</table>\n",
       "</div>"
      ],
      "text/plain": [
       "  Group Treatment  Age  Cholesterol\n",
       "0     I         A   74          6.7\n",
       "1     I         A   68          6.7\n",
       "2    II         B   21          5.0\n",
       "3     I         B   66          3.7\n",
       "4   III         A   37         10.3"
      ]
     },
     "execution_count": 3,
     "metadata": {},
     "output_type": "execute_result"
    }
   ],
   "source": [
    "df.head()"
   ]
  },
  {
   "cell_type": "code",
   "execution_count": 4,
   "metadata": {},
   "outputs": [
    {
     "data": {
      "text/plain": [
       "(300, 4)"
      ]
     },
     "execution_count": 4,
     "metadata": {},
     "output_type": "execute_result"
    }
   ],
   "source": [
    "df.shape"
   ]
  },
  {
   "cell_type": "code",
   "execution_count": 5,
   "metadata": {},
   "outputs": [
    {
     "name": "stdout",
     "output_type": "stream",
     "text": [
      "<class 'pandas.core.frame.DataFrame'>\n",
      "RangeIndex: 300 entries, 0 to 299\n",
      "Data columns (total 4 columns):\n",
      " #   Column       Non-Null Count  Dtype  \n",
      "---  ------       --------------  -----  \n",
      " 0   Group        300 non-null    object \n",
      " 1   Treatment    300 non-null    object \n",
      " 2   Age          300 non-null    int64  \n",
      " 3   Cholesterol  300 non-null    float64\n",
      "dtypes: float64(1), int64(1), object(2)\n",
      "memory usage: 9.5+ KB\n"
     ]
    }
   ],
   "source": [
    "df.info()"
   ]
  },
  {
   "cell_type": "code",
   "execution_count": 6,
   "metadata": {},
   "outputs": [
    {
     "data": {
      "text/plain": [
       "0       74\n",
       "1       68\n",
       "2       21\n",
       "3       66\n",
       "4       37\n",
       "      ... \n",
       "295     68\n",
       "296     46\n",
       "297     70\n",
       "298      2\n",
       "299    103\n",
       "Name: Age, Length: 300, dtype: int64"
      ]
     },
     "execution_count": 6,
     "metadata": {},
     "output_type": "execute_result"
    }
   ],
   "source": [
    "df.Age"
   ]
  },
  {
   "cell_type": "code",
   "execution_count": 7,
   "metadata": {},
   "outputs": [],
   "source": [
    "df.Group = df.Group.astype(\"category\")\n",
    "df.Treatment = df.Treatment.astype(\"category\")"
   ]
  },
  {
   "cell_type": "code",
   "execution_count": 8,
   "metadata": {},
   "outputs": [
    {
     "name": "stdout",
     "output_type": "stream",
     "text": [
      "<class 'pandas.core.frame.DataFrame'>\n",
      "RangeIndex: 300 entries, 0 to 299\n",
      "Data columns (total 4 columns):\n",
      " #   Column       Non-Null Count  Dtype   \n",
      "---  ------       --------------  -----   \n",
      " 0   Group        300 non-null    category\n",
      " 1   Treatment    300 non-null    category\n",
      " 2   Age          300 non-null    int64   \n",
      " 3   Cholesterol  300 non-null    float64 \n",
      "dtypes: category(2), float64(1), int64(1)\n",
      "memory usage: 5.6 KB\n"
     ]
    }
   ],
   "source": [
    "df.info()"
   ]
  },
  {
   "cell_type": "code",
   "execution_count": 9,
   "metadata": {},
   "outputs": [
    {
     "data": {
      "text/plain": [
       "2"
      ]
     },
     "execution_count": 9,
     "metadata": {},
     "output_type": "execute_result"
    }
   ],
   "source": [
    "df.Age.min()"
   ]
  },
  {
   "cell_type": "code",
   "execution_count": 10,
   "metadata": {},
   "outputs": [
    {
     "data": {
      "text/plain": [
       "104"
      ]
     },
     "execution_count": 10,
     "metadata": {},
     "output_type": "execute_result"
    }
   ],
   "source": [
    "df.Age.max()"
   ]
  },
  {
   "cell_type": "code",
   "execution_count": 11,
   "metadata": {},
   "outputs": [
    {
     "data": {
      "text/plain": [
       "A    151\n",
       "B    149\n",
       "Name: Treatment, dtype: int64"
      ]
     },
     "execution_count": 11,
     "metadata": {},
     "output_type": "execute_result"
    }
   ],
   "source": [
    "df.Treatment.value_counts()"
   ]
  },
  {
   "cell_type": "code",
   "execution_count": 12,
   "metadata": {},
   "outputs": [
    {
     "data": {
      "text/html": [
       "<div>\n",
       "<style scoped>\n",
       "    .dataframe tbody tr th:only-of-type {\n",
       "        vertical-align: middle;\n",
       "    }\n",
       "\n",
       "    .dataframe tbody tr th {\n",
       "        vertical-align: top;\n",
       "    }\n",
       "\n",
       "    .dataframe thead th {\n",
       "        text-align: right;\n",
       "    }\n",
       "</style>\n",
       "<table border=\"1\" class=\"dataframe\">\n",
       "  <thead>\n",
       "    <tr style=\"text-align: right;\">\n",
       "      <th>Treatment</th>\n",
       "      <th>A</th>\n",
       "      <th>B</th>\n",
       "    </tr>\n",
       "    <tr>\n",
       "      <th>Group</th>\n",
       "      <th></th>\n",
       "      <th></th>\n",
       "    </tr>\n",
       "  </thead>\n",
       "  <tbody>\n",
       "    <tr>\n",
       "      <th>I</th>\n",
       "      <td>50</td>\n",
       "      <td>51</td>\n",
       "    </tr>\n",
       "    <tr>\n",
       "      <th>II</th>\n",
       "      <td>50</td>\n",
       "      <td>50</td>\n",
       "    </tr>\n",
       "    <tr>\n",
       "      <th>III</th>\n",
       "      <td>51</td>\n",
       "      <td>48</td>\n",
       "    </tr>\n",
       "  </tbody>\n",
       "</table>\n",
       "</div>"
      ],
      "text/plain": [
       "Treatment   A   B\n",
       "Group            \n",
       "I          50  51\n",
       "II         50  50\n",
       "III        51  48"
      ]
     },
     "execution_count": 12,
     "metadata": {},
     "output_type": "execute_result"
    }
   ],
   "source": [
    "pd.crosstab(df.Group, df.Treatment)"
   ]
  },
  {
   "cell_type": "code",
   "execution_count": 18,
   "metadata": {},
   "outputs": [
    {
     "data": {
      "text/html": [
       "<div>\n",
       "<style scoped>\n",
       "    .dataframe tbody tr th:only-of-type {\n",
       "        vertical-align: middle;\n",
       "    }\n",
       "\n",
       "    .dataframe tbody tr th {\n",
       "        vertical-align: top;\n",
       "    }\n",
       "\n",
       "    .dataframe thead th {\n",
       "        text-align: right;\n",
       "    }\n",
       "</style>\n",
       "<table border=\"1\" class=\"dataframe\">\n",
       "  <thead>\n",
       "    <tr style=\"text-align: right;\">\n",
       "      <th></th>\n",
       "      <th>Group</th>\n",
       "      <th>Treatment</th>\n",
       "      <th>Age</th>\n",
       "      <th>Cholesterol</th>\n",
       "    </tr>\n",
       "  </thead>\n",
       "  <tbody>\n",
       "    <tr>\n",
       "      <th>7</th>\n",
       "      <td>III</td>\n",
       "      <td>B</td>\n",
       "      <td>13</td>\n",
       "      <td>9.1</td>\n",
       "    </tr>\n",
       "    <tr>\n",
       "      <th>76</th>\n",
       "      <td>III</td>\n",
       "      <td>A</td>\n",
       "      <td>10</td>\n",
       "      <td>8.6</td>\n",
       "    </tr>\n",
       "    <tr>\n",
       "      <th>97</th>\n",
       "      <td>III</td>\n",
       "      <td>A</td>\n",
       "      <td>14</td>\n",
       "      <td>5.5</td>\n",
       "    </tr>\n",
       "    <tr>\n",
       "      <th>110</th>\n",
       "      <td>II</td>\n",
       "      <td>B</td>\n",
       "      <td>16</td>\n",
       "      <td>4.6</td>\n",
       "    </tr>\n",
       "    <tr>\n",
       "      <th>118</th>\n",
       "      <td>I</td>\n",
       "      <td>A</td>\n",
       "      <td>10</td>\n",
       "      <td>5.7</td>\n",
       "    </tr>\n",
       "    <tr>\n",
       "      <th>173</th>\n",
       "      <td>II</td>\n",
       "      <td>A</td>\n",
       "      <td>13</td>\n",
       "      <td>6.7</td>\n",
       "    </tr>\n",
       "    <tr>\n",
       "      <th>280</th>\n",
       "      <td>I</td>\n",
       "      <td>A</td>\n",
       "      <td>17</td>\n",
       "      <td>5.0</td>\n",
       "    </tr>\n",
       "    <tr>\n",
       "      <th>298</th>\n",
       "      <td>I</td>\n",
       "      <td>A</td>\n",
       "      <td>2</td>\n",
       "      <td>4.3</td>\n",
       "    </tr>\n",
       "  </tbody>\n",
       "</table>\n",
       "</div>"
      ],
      "text/plain": [
       "    Group Treatment  Age  Cholesterol\n",
       "7     III         B   13          9.1\n",
       "76    III         A   10          8.6\n",
       "97    III         A   14          5.5\n",
       "110    II         B   16          4.6\n",
       "118     I         A   10          5.7\n",
       "173    II         A   13          6.7\n",
       "280     I         A   17          5.0\n",
       "298     I         A    2          4.3"
      ]
     },
     "execution_count": 18,
     "metadata": {},
     "output_type": "execute_result"
    }
   ],
   "source": [
    "df[df.Age < 18]"
   ]
  },
  {
   "cell_type": "markdown",
   "metadata": {},
   "source": [
    "### Descriptive Statistics"
   ]
  },
  {
   "cell_type": "markdown",
   "metadata": {},
   "source": [
    "#### Measures of Central Tendency"
   ]
  },
  {
   "cell_type": "code",
   "execution_count": 19,
   "metadata": {},
   "outputs": [
    {
     "data": {
      "text/plain": [
       "6.007333333333333"
      ]
     },
     "execution_count": 19,
     "metadata": {},
     "output_type": "execute_result"
    }
   ],
   "source": [
    "df.Cholesterol.mean()"
   ]
  },
  {
   "cell_type": "code",
   "execution_count": 20,
   "metadata": {},
   "outputs": [
    {
     "data": {
      "text/plain": [
       "51.61333333333334"
      ]
     },
     "execution_count": 20,
     "metadata": {},
     "output_type": "execute_result"
    }
   ],
   "source": [
    "df.Age.mean()"
   ]
  },
  {
   "cell_type": "code",
   "execution_count": 21,
   "metadata": {},
   "outputs": [
    {
     "data": {
      "text/plain": [
       "0    41\n",
       "1    42\n",
       "2    52\n",
       "dtype: int64"
      ]
     },
     "execution_count": 21,
     "metadata": {},
     "output_type": "execute_result"
    }
   ],
   "source": [
    "df.Age.mode()"
   ]
  },
  {
   "cell_type": "code",
   "execution_count": 25,
   "metadata": {},
   "outputs": [
    {
     "data": {
      "text/plain": [
       "(9, 4)"
      ]
     },
     "execution_count": 25,
     "metadata": {},
     "output_type": "execute_result"
    }
   ],
   "source": [
    "df[df.Age == 52].shape"
   ]
  },
  {
   "cell_type": "code",
   "execution_count": 26,
   "metadata": {},
   "outputs": [
    {
     "data": {
      "text/plain": [
       "52.0"
      ]
     },
     "execution_count": 26,
     "metadata": {},
     "output_type": "execute_result"
    }
   ],
   "source": [
    "df.Age.median()"
   ]
  },
  {
   "cell_type": "markdown",
   "metadata": {},
   "source": [
    "#### Measures of Dispersion"
   ]
  },
  {
   "cell_type": "code",
   "execution_count": 28,
   "metadata": {},
   "outputs": [
    {
     "data": {
      "text/plain": [
       "1.9166615578430293"
      ]
     },
     "execution_count": 28,
     "metadata": {},
     "output_type": "execute_result"
    }
   ],
   "source": [
    "df.Cholesterol.std()"
   ]
  },
  {
   "cell_type": "code",
   "execution_count": 29,
   "metadata": {},
   "outputs": [
    {
     "data": {
      "text/plain": [
       "3.673591527313268"
      ]
     },
     "execution_count": 29,
     "metadata": {},
     "output_type": "execute_result"
    }
   ],
   "source": [
    "df.Cholesterol.var()"
   ]
  },
  {
   "cell_type": "code",
   "execution_count": 32,
   "metadata": {},
   "outputs": [
    {
     "data": {
      "text/plain": [
       "3.6735915273132678"
      ]
     },
     "execution_count": 32,
     "metadata": {},
     "output_type": "execute_result"
    }
   ],
   "source": [
    "df.Cholesterol.std()**2"
   ]
  },
  {
   "cell_type": "markdown",
   "metadata": {},
   "source": [
    "### T-test"
   ]
  },
  {
   "cell_type": "code",
   "execution_count": 34,
   "metadata": {},
   "outputs": [
    {
     "data": {
      "text/plain": [
       "LeveneResult(statistic=1.0400768536663356, pvalue=0.30863082388124846)"
      ]
     },
     "execution_count": 34,
     "metadata": {},
     "output_type": "execute_result"
    }
   ],
   "source": [
    "stats.levene(df[df.Treatment == \"A\"].Cholesterol, df[df.Treatment == \"B\"].Cholesterol)"
   ]
  },
  {
   "cell_type": "code",
   "execution_count": 36,
   "metadata": {},
   "outputs": [
    {
     "data": {
      "text/plain": [
       "Ttest_indResult(statistic=1.6429180984069158, pvalue=0.10145456832306156)"
      ]
     },
     "execution_count": 36,
     "metadata": {},
     "output_type": "execute_result"
    }
   ],
   "source": [
    "stats.ttest_ind(df[df.Treatment == \"A\"].Cholesterol, df[df.Treatment == \"B\"].Cholesterol, equal_var = True)"
   ]
  },
  {
   "cell_type": "code",
   "execution_count": 38,
   "metadata": {},
   "outputs": [
    {
     "data": {
      "application/vnd.plotly.v1+json": {
       "config": {
        "plotlyServerURL": "https://plot.ly"
       },
       "data": [
        {
         "alignmentgroup": "True",
         "hovertemplate": "Group=I<br>Treatment=%{x}<br>Cholesterol=%{y}<extra></extra>",
         "legendgroup": "I",
         "marker": {
          "color": "#636efa"
         },
         "name": "I",
         "notched": false,
         "offsetgroup": "I",
         "orientation": "v",
         "showlegend": true,
         "type": "box",
         "x": [
          "A",
          "A",
          "B",
          "B",
          "B",
          "B",
          "A",
          "A",
          "B",
          "A",
          "A",
          "B",
          "A",
          "B",
          "B",
          "B",
          "A",
          "A",
          "B",
          "A",
          "A",
          "B",
          "A",
          "B",
          "B",
          "B",
          "A",
          "B",
          "B",
          "A",
          "A",
          "B",
          "B",
          "A",
          "B",
          "A",
          "B",
          "B",
          "A",
          "A",
          "A",
          "A",
          "A",
          "A",
          "B",
          "B",
          "B",
          "B",
          "A",
          "A",
          "B",
          "A",
          "A",
          "B",
          "A",
          "B",
          "B",
          "B",
          "A",
          "A",
          "B",
          "A",
          "A",
          "B",
          "A",
          "B",
          "B",
          "B",
          "A",
          "B",
          "B",
          "A",
          "A",
          "B",
          "B",
          "A",
          "B",
          "A",
          "B",
          "B",
          "A",
          "A",
          "A",
          "A",
          "A",
          "A",
          "B",
          "B",
          "B",
          "B",
          "A",
          "A",
          "B",
          "A",
          "A",
          "B",
          "A",
          "B",
          "B",
          "B",
          "A"
         ],
         "x0": " ",
         "xaxis": "x",
         "y": [
          6.7,
          6.7,
          3.7,
          6,
          6.1,
          6,
          4.2,
          5.2,
          7.2,
          9.3,
          5.6,
          4.2,
          3.7,
          8.8,
          1.4,
          3.8,
          8.4,
          7.4,
          5.2,
          10,
          6.5,
          6.2,
          8.6,
          8,
          6.7,
          5,
          9,
          3.8,
          6.6,
          5.2,
          3.2,
          2.7,
          6.7,
          6.1,
          5.6,
          7.5,
          5,
          4.9,
          8.1,
          6.5,
          5.7,
          5.5,
          8,
          1.3,
          7.4,
          8.4,
          4.5,
          7.4,
          7.4,
          7.5,
          5.6,
          7.9,
          6,
          7.1,
          4.9,
          5.2,
          5.3,
          5.9,
          3.7,
          6.4,
          6.9,
          2.9,
          4.1,
          6.8,
          5.8,
          6.2,
          4.3,
          6.9,
          6,
          7.8,
          4.3,
          8.8,
          6,
          5.7,
          3.6,
          7,
          7.1,
          7,
          5.5,
          8.9,
          5.2,
          4.3,
          9.1,
          10.5,
          2.6,
          1.7,
          7.1,
          1.1,
          5.9,
          7.6,
          6.2,
          7.4,
          3.6,
          8.3,
          5,
          6.1,
          7.5,
          5.8,
          3,
          4.5,
          4.3
         ],
         "y0": " ",
         "yaxis": "y"
        },
        {
         "alignmentgroup": "True",
         "hovertemplate": "Group=II<br>Treatment=%{x}<br>Cholesterol=%{y}<extra></extra>",
         "legendgroup": "II",
         "marker": {
          "color": "#EF553B"
         },
         "name": "II",
         "notched": false,
         "offsetgroup": "II",
         "orientation": "v",
         "showlegend": true,
         "type": "box",
         "x": [
          "B",
          "A",
          "A",
          "B",
          "A",
          "B",
          "A",
          "B",
          "B",
          "A",
          "A",
          "B",
          "B",
          "A",
          "B",
          "A",
          "B",
          "B",
          "A",
          "A",
          "A",
          "B",
          "A",
          "A",
          "A",
          "A",
          "B",
          "A",
          "B",
          "A",
          "A",
          "B",
          "A",
          "B",
          "B",
          "B",
          "B",
          "B",
          "A",
          "B",
          "B",
          "A",
          "B",
          "A",
          "A",
          "B",
          "A",
          "B",
          "A",
          "B",
          "B",
          "A",
          "A",
          "B",
          "B",
          "A",
          "B",
          "A",
          "B",
          "B",
          "A",
          "A",
          "A",
          "B",
          "A",
          "A",
          "A",
          "A",
          "B",
          "A",
          "B",
          "A",
          "A",
          "B",
          "A",
          "B",
          "B",
          "B",
          "B",
          "B",
          "A",
          "B",
          "B",
          "A",
          "B",
          "A",
          "A",
          "B",
          "A",
          "B",
          "A",
          "B",
          "B",
          "A",
          "A",
          "B",
          "B",
          "A",
          "B",
          "A"
         ],
         "x0": " ",
         "xaxis": "x",
         "y": [
          5,
          4,
          4.1,
          8.4,
          6.7,
          6.9,
          7.3,
          8.2,
          5,
          12.3,
          4.9,
          5.8,
          6.5,
          1.1,
          5.1,
          2.6,
          6.6,
          5.2,
          7.9,
          7.5,
          7.6,
          4.2,
          3.8,
          6.7,
          7,
          7,
          3.8,
          6.5,
          6.1,
          6,
          5.6,
          3.7,
          5.4,
          5.8,
          7,
          5.4,
          4.6,
          11.7,
          5,
          5,
          7.8,
          6,
          8.1,
          8.1,
          6.6,
          6.3,
          6.7,
          7.2,
          4.3,
          7.2,
          5.1,
          6.2,
          5.4,
          5.5,
          4.6,
          10,
          6.2,
          6.7,
          6.4,
          5.2,
          4.7,
          8.4,
          9.2,
          2.3,
          5.4,
          4.5,
          6.2,
          8.5,
          5.5,
          9.8,
          3.9,
          6.6,
          2,
          5,
          6.4,
          5.5,
          5.4,
          6.2,
          4.8,
          7.6,
          5,
          6.1,
          4.3,
          3.8,
          4,
          9.5,
          5.3,
          8.7,
          4,
          5.1,
          8.3,
          3.2,
          3.9,
          8.4,
          7.6,
          7.6,
          5.5,
          7.4,
          10.1,
          3.9
         ],
         "y0": " ",
         "yaxis": "y"
        },
        {
         "alignmentgroup": "True",
         "hovertemplate": "Group=III<br>Treatment=%{x}<br>Cholesterol=%{y}<extra></extra>",
         "legendgroup": "III",
         "marker": {
          "color": "#00cc96"
         },
         "name": "III",
         "notched": false,
         "offsetgroup": "III",
         "orientation": "v",
         "showlegend": true,
         "type": "box",
         "x": [
          "A",
          "A",
          "B",
          "A",
          "A",
          "B",
          "A",
          "B",
          "B",
          "B",
          "A",
          "A",
          "B",
          "A",
          "A",
          "B",
          "A",
          "B",
          "B",
          "B",
          "A",
          "B",
          "B",
          "A",
          "A",
          "B",
          "B",
          "A",
          "B",
          "A",
          "B",
          "B",
          "A",
          "A",
          "A",
          "A",
          "A",
          "A",
          "B",
          "B",
          "B",
          "B",
          "A",
          "A",
          "B",
          "A",
          "A",
          "B",
          "A",
          "B",
          "B",
          "B",
          "A",
          "A",
          "B",
          "A",
          "A",
          "B",
          "A",
          "B",
          "B",
          "B",
          "A",
          "B",
          "B",
          "A",
          "A",
          "B",
          "B",
          "A",
          "B",
          "A",
          "B",
          "B",
          "A",
          "A",
          "A",
          "A",
          "A",
          "A",
          "B",
          "B",
          "B",
          "B",
          "A",
          "A",
          "B",
          "A",
          "A",
          "B",
          "A",
          "B",
          "B",
          "B",
          "A",
          "A",
          "B",
          "A",
          "A"
         ],
         "x0": " ",
         "xaxis": "x",
         "y": [
          10.3,
          2.4,
          9.1,
          5.3,
          3.5,
          6.1,
          5.4,
          6.3,
          7,
          3.8,
          6.9,
          4.9,
          5.1,
          6.1,
          4.8,
          8.1,
          5.2,
          4.2,
          7.3,
          4.5,
          6.3,
          1.9,
          6.5,
          5.7,
          8.6,
          8,
          3.6,
          8,
          7.7,
          3.4,
          4.7,
          7.2,
          5.5,
          7.2,
          5.6,
          4.4,
          8.5,
          2.2,
          7,
          8.5,
          4.6,
          4.1,
          7.9,
          6,
          8.2,
          10.3,
          6,
          4.8,
          6.2,
          9.3,
          5.8,
          7.3,
          4.8,
          5.5,
          3.1,
          2.3,
          5.1,
          6.9,
          4.7,
          7.1,
          7.5,
          4.2,
          6.1,
          8.8,
          4,
          6.7,
          5.2,
          2.2,
          6.2,
          4.8,
          5.1,
          7.1,
          2.7,
          6.6,
          8,
          8.7,
          7.5,
          7.5,
          6.1,
          5.9,
          8.1,
          7,
          7.7,
          2.9,
          5.1,
          6.6,
          5.3,
          5,
          5.9,
          6.6,
          5.4,
          3.7,
          6.1,
          7.1,
          4.2,
          10.6,
          4.9,
          6.5,
          6.6
         ],
         "y0": " ",
         "yaxis": "y"
        }
       ],
       "layout": {
        "boxmode": "group",
        "legend": {
         "title": {
          "text": "Group"
         },
         "tracegroupgap": 0
        },
        "margin": {
         "t": 60
        },
        "template": {
         "data": {
          "bar": [
           {
            "error_x": {
             "color": "#2a3f5f"
            },
            "error_y": {
             "color": "#2a3f5f"
            },
            "marker": {
             "line": {
              "color": "#E5ECF6",
              "width": 0.5
             }
            },
            "type": "bar"
           }
          ],
          "barpolar": [
           {
            "marker": {
             "line": {
              "color": "#E5ECF6",
              "width": 0.5
             }
            },
            "type": "barpolar"
           }
          ],
          "carpet": [
           {
            "aaxis": {
             "endlinecolor": "#2a3f5f",
             "gridcolor": "white",
             "linecolor": "white",
             "minorgridcolor": "white",
             "startlinecolor": "#2a3f5f"
            },
            "baxis": {
             "endlinecolor": "#2a3f5f",
             "gridcolor": "white",
             "linecolor": "white",
             "minorgridcolor": "white",
             "startlinecolor": "#2a3f5f"
            },
            "type": "carpet"
           }
          ],
          "choropleth": [
           {
            "colorbar": {
             "outlinewidth": 0,
             "ticks": ""
            },
            "type": "choropleth"
           }
          ],
          "contour": [
           {
            "colorbar": {
             "outlinewidth": 0,
             "ticks": ""
            },
            "colorscale": [
             [
              0,
              "#0d0887"
             ],
             [
              0.1111111111111111,
              "#46039f"
             ],
             [
              0.2222222222222222,
              "#7201a8"
             ],
             [
              0.3333333333333333,
              "#9c179e"
             ],
             [
              0.4444444444444444,
              "#bd3786"
             ],
             [
              0.5555555555555556,
              "#d8576b"
             ],
             [
              0.6666666666666666,
              "#ed7953"
             ],
             [
              0.7777777777777778,
              "#fb9f3a"
             ],
             [
              0.8888888888888888,
              "#fdca26"
             ],
             [
              1,
              "#f0f921"
             ]
            ],
            "type": "contour"
           }
          ],
          "contourcarpet": [
           {
            "colorbar": {
             "outlinewidth": 0,
             "ticks": ""
            },
            "type": "contourcarpet"
           }
          ],
          "heatmap": [
           {
            "colorbar": {
             "outlinewidth": 0,
             "ticks": ""
            },
            "colorscale": [
             [
              0,
              "#0d0887"
             ],
             [
              0.1111111111111111,
              "#46039f"
             ],
             [
              0.2222222222222222,
              "#7201a8"
             ],
             [
              0.3333333333333333,
              "#9c179e"
             ],
             [
              0.4444444444444444,
              "#bd3786"
             ],
             [
              0.5555555555555556,
              "#d8576b"
             ],
             [
              0.6666666666666666,
              "#ed7953"
             ],
             [
              0.7777777777777778,
              "#fb9f3a"
             ],
             [
              0.8888888888888888,
              "#fdca26"
             ],
             [
              1,
              "#f0f921"
             ]
            ],
            "type": "heatmap"
           }
          ],
          "heatmapgl": [
           {
            "colorbar": {
             "outlinewidth": 0,
             "ticks": ""
            },
            "colorscale": [
             [
              0,
              "#0d0887"
             ],
             [
              0.1111111111111111,
              "#46039f"
             ],
             [
              0.2222222222222222,
              "#7201a8"
             ],
             [
              0.3333333333333333,
              "#9c179e"
             ],
             [
              0.4444444444444444,
              "#bd3786"
             ],
             [
              0.5555555555555556,
              "#d8576b"
             ],
             [
              0.6666666666666666,
              "#ed7953"
             ],
             [
              0.7777777777777778,
              "#fb9f3a"
             ],
             [
              0.8888888888888888,
              "#fdca26"
             ],
             [
              1,
              "#f0f921"
             ]
            ],
            "type": "heatmapgl"
           }
          ],
          "histogram": [
           {
            "marker": {
             "colorbar": {
              "outlinewidth": 0,
              "ticks": ""
             }
            },
            "type": "histogram"
           }
          ],
          "histogram2d": [
           {
            "colorbar": {
             "outlinewidth": 0,
             "ticks": ""
            },
            "colorscale": [
             [
              0,
              "#0d0887"
             ],
             [
              0.1111111111111111,
              "#46039f"
             ],
             [
              0.2222222222222222,
              "#7201a8"
             ],
             [
              0.3333333333333333,
              "#9c179e"
             ],
             [
              0.4444444444444444,
              "#bd3786"
             ],
             [
              0.5555555555555556,
              "#d8576b"
             ],
             [
              0.6666666666666666,
              "#ed7953"
             ],
             [
              0.7777777777777778,
              "#fb9f3a"
             ],
             [
              0.8888888888888888,
              "#fdca26"
             ],
             [
              1,
              "#f0f921"
             ]
            ],
            "type": "histogram2d"
           }
          ],
          "histogram2dcontour": [
           {
            "colorbar": {
             "outlinewidth": 0,
             "ticks": ""
            },
            "colorscale": [
             [
              0,
              "#0d0887"
             ],
             [
              0.1111111111111111,
              "#46039f"
             ],
             [
              0.2222222222222222,
              "#7201a8"
             ],
             [
              0.3333333333333333,
              "#9c179e"
             ],
             [
              0.4444444444444444,
              "#bd3786"
             ],
             [
              0.5555555555555556,
              "#d8576b"
             ],
             [
              0.6666666666666666,
              "#ed7953"
             ],
             [
              0.7777777777777778,
              "#fb9f3a"
             ],
             [
              0.8888888888888888,
              "#fdca26"
             ],
             [
              1,
              "#f0f921"
             ]
            ],
            "type": "histogram2dcontour"
           }
          ],
          "mesh3d": [
           {
            "colorbar": {
             "outlinewidth": 0,
             "ticks": ""
            },
            "type": "mesh3d"
           }
          ],
          "parcoords": [
           {
            "line": {
             "colorbar": {
              "outlinewidth": 0,
              "ticks": ""
             }
            },
            "type": "parcoords"
           }
          ],
          "pie": [
           {
            "automargin": true,
            "type": "pie"
           }
          ],
          "scatter": [
           {
            "marker": {
             "colorbar": {
              "outlinewidth": 0,
              "ticks": ""
             }
            },
            "type": "scatter"
           }
          ],
          "scatter3d": [
           {
            "line": {
             "colorbar": {
              "outlinewidth": 0,
              "ticks": ""
             }
            },
            "marker": {
             "colorbar": {
              "outlinewidth": 0,
              "ticks": ""
             }
            },
            "type": "scatter3d"
           }
          ],
          "scattercarpet": [
           {
            "marker": {
             "colorbar": {
              "outlinewidth": 0,
              "ticks": ""
             }
            },
            "type": "scattercarpet"
           }
          ],
          "scattergeo": [
           {
            "marker": {
             "colorbar": {
              "outlinewidth": 0,
              "ticks": ""
             }
            },
            "type": "scattergeo"
           }
          ],
          "scattergl": [
           {
            "marker": {
             "colorbar": {
              "outlinewidth": 0,
              "ticks": ""
             }
            },
            "type": "scattergl"
           }
          ],
          "scattermapbox": [
           {
            "marker": {
             "colorbar": {
              "outlinewidth": 0,
              "ticks": ""
             }
            },
            "type": "scattermapbox"
           }
          ],
          "scatterpolar": [
           {
            "marker": {
             "colorbar": {
              "outlinewidth": 0,
              "ticks": ""
             }
            },
            "type": "scatterpolar"
           }
          ],
          "scatterpolargl": [
           {
            "marker": {
             "colorbar": {
              "outlinewidth": 0,
              "ticks": ""
             }
            },
            "type": "scatterpolargl"
           }
          ],
          "scatterternary": [
           {
            "marker": {
             "colorbar": {
              "outlinewidth": 0,
              "ticks": ""
             }
            },
            "type": "scatterternary"
           }
          ],
          "surface": [
           {
            "colorbar": {
             "outlinewidth": 0,
             "ticks": ""
            },
            "colorscale": [
             [
              0,
              "#0d0887"
             ],
             [
              0.1111111111111111,
              "#46039f"
             ],
             [
              0.2222222222222222,
              "#7201a8"
             ],
             [
              0.3333333333333333,
              "#9c179e"
             ],
             [
              0.4444444444444444,
              "#bd3786"
             ],
             [
              0.5555555555555556,
              "#d8576b"
             ],
             [
              0.6666666666666666,
              "#ed7953"
             ],
             [
              0.7777777777777778,
              "#fb9f3a"
             ],
             [
              0.8888888888888888,
              "#fdca26"
             ],
             [
              1,
              "#f0f921"
             ]
            ],
            "type": "surface"
           }
          ],
          "table": [
           {
            "cells": {
             "fill": {
              "color": "#EBF0F8"
             },
             "line": {
              "color": "white"
             }
            },
            "header": {
             "fill": {
              "color": "#C8D4E3"
             },
             "line": {
              "color": "white"
             }
            },
            "type": "table"
           }
          ]
         },
         "layout": {
          "annotationdefaults": {
           "arrowcolor": "#2a3f5f",
           "arrowhead": 0,
           "arrowwidth": 1
          },
          "coloraxis": {
           "colorbar": {
            "outlinewidth": 0,
            "ticks": ""
           }
          },
          "colorscale": {
           "diverging": [
            [
             0,
             "#8e0152"
            ],
            [
             0.1,
             "#c51b7d"
            ],
            [
             0.2,
             "#de77ae"
            ],
            [
             0.3,
             "#f1b6da"
            ],
            [
             0.4,
             "#fde0ef"
            ],
            [
             0.5,
             "#f7f7f7"
            ],
            [
             0.6,
             "#e6f5d0"
            ],
            [
             0.7,
             "#b8e186"
            ],
            [
             0.8,
             "#7fbc41"
            ],
            [
             0.9,
             "#4d9221"
            ],
            [
             1,
             "#276419"
            ]
           ],
           "sequential": [
            [
             0,
             "#0d0887"
            ],
            [
             0.1111111111111111,
             "#46039f"
            ],
            [
             0.2222222222222222,
             "#7201a8"
            ],
            [
             0.3333333333333333,
             "#9c179e"
            ],
            [
             0.4444444444444444,
             "#bd3786"
            ],
            [
             0.5555555555555556,
             "#d8576b"
            ],
            [
             0.6666666666666666,
             "#ed7953"
            ],
            [
             0.7777777777777778,
             "#fb9f3a"
            ],
            [
             0.8888888888888888,
             "#fdca26"
            ],
            [
             1,
             "#f0f921"
            ]
           ],
           "sequentialminus": [
            [
             0,
             "#0d0887"
            ],
            [
             0.1111111111111111,
             "#46039f"
            ],
            [
             0.2222222222222222,
             "#7201a8"
            ],
            [
             0.3333333333333333,
             "#9c179e"
            ],
            [
             0.4444444444444444,
             "#bd3786"
            ],
            [
             0.5555555555555556,
             "#d8576b"
            ],
            [
             0.6666666666666666,
             "#ed7953"
            ],
            [
             0.7777777777777778,
             "#fb9f3a"
            ],
            [
             0.8888888888888888,
             "#fdca26"
            ],
            [
             1,
             "#f0f921"
            ]
           ]
          },
          "colorway": [
           "#636efa",
           "#EF553B",
           "#00cc96",
           "#ab63fa",
           "#FFA15A",
           "#19d3f3",
           "#FF6692",
           "#B6E880",
           "#FF97FF",
           "#FECB52"
          ],
          "font": {
           "color": "#2a3f5f"
          },
          "geo": {
           "bgcolor": "white",
           "lakecolor": "white",
           "landcolor": "#E5ECF6",
           "showlakes": true,
           "showland": true,
           "subunitcolor": "white"
          },
          "hoverlabel": {
           "align": "left"
          },
          "hovermode": "closest",
          "mapbox": {
           "style": "light"
          },
          "paper_bgcolor": "white",
          "plot_bgcolor": "#E5ECF6",
          "polar": {
           "angularaxis": {
            "gridcolor": "white",
            "linecolor": "white",
            "ticks": ""
           },
           "bgcolor": "#E5ECF6",
           "radialaxis": {
            "gridcolor": "white",
            "linecolor": "white",
            "ticks": ""
           }
          },
          "scene": {
           "xaxis": {
            "backgroundcolor": "#E5ECF6",
            "gridcolor": "white",
            "gridwidth": 2,
            "linecolor": "white",
            "showbackground": true,
            "ticks": "",
            "zerolinecolor": "white"
           },
           "yaxis": {
            "backgroundcolor": "#E5ECF6",
            "gridcolor": "white",
            "gridwidth": 2,
            "linecolor": "white",
            "showbackground": true,
            "ticks": "",
            "zerolinecolor": "white"
           },
           "zaxis": {
            "backgroundcolor": "#E5ECF6",
            "gridcolor": "white",
            "gridwidth": 2,
            "linecolor": "white",
            "showbackground": true,
            "ticks": "",
            "zerolinecolor": "white"
           }
          },
          "shapedefaults": {
           "line": {
            "color": "#2a3f5f"
           }
          },
          "ternary": {
           "aaxis": {
            "gridcolor": "white",
            "linecolor": "white",
            "ticks": ""
           },
           "baxis": {
            "gridcolor": "white",
            "linecolor": "white",
            "ticks": ""
           },
           "bgcolor": "#E5ECF6",
           "caxis": {
            "gridcolor": "white",
            "linecolor": "white",
            "ticks": ""
           }
          },
          "title": {
           "x": 0.05
          },
          "xaxis": {
           "automargin": true,
           "gridcolor": "white",
           "linecolor": "white",
           "ticks": "",
           "title": {
            "standoff": 15
           },
           "zerolinecolor": "white",
           "zerolinewidth": 2
          },
          "yaxis": {
           "automargin": true,
           "gridcolor": "white",
           "linecolor": "white",
           "ticks": "",
           "title": {
            "standoff": 15
           },
           "zerolinecolor": "white",
           "zerolinewidth": 2
          }
         }
        },
        "xaxis": {
         "anchor": "y",
         "domain": [
          0,
          1
         ],
         "title": {
          "text": "Treatment"
         }
        },
        "yaxis": {
         "anchor": "x",
         "domain": [
          0,
          1
         ],
         "title": {
          "text": "Cholesterol"
         }
        }
       }
      },
      "text/html": [
       "<div>\n",
       "        \n",
       "        \n",
       "            <div id=\"f191d8a6-4904-4272-9812-12362f82b6c3\" class=\"plotly-graph-div\" style=\"height:525px; width:100%;\"></div>\n",
       "            <script type=\"text/javascript\">\n",
       "                require([\"plotly\"], function(Plotly) {\n",
       "                    window.PLOTLYENV=window.PLOTLYENV || {};\n",
       "                    \n",
       "                if (document.getElementById(\"f191d8a6-4904-4272-9812-12362f82b6c3\")) {\n",
       "                    Plotly.newPlot(\n",
       "                        'f191d8a6-4904-4272-9812-12362f82b6c3',\n",
       "                        [{\"alignmentgroup\": \"True\", \"hovertemplate\": \"Group=I<br>Treatment=%{x}<br>Cholesterol=%{y}<extra></extra>\", \"legendgroup\": \"I\", \"marker\": {\"color\": \"#636efa\"}, \"name\": \"I\", \"notched\": false, \"offsetgroup\": \"I\", \"orientation\": \"v\", \"showlegend\": true, \"type\": \"box\", \"x\": [\"A\", \"A\", \"B\", \"B\", \"B\", \"B\", \"A\", \"A\", \"B\", \"A\", \"A\", \"B\", \"A\", \"B\", \"B\", \"B\", \"A\", \"A\", \"B\", \"A\", \"A\", \"B\", \"A\", \"B\", \"B\", \"B\", \"A\", \"B\", \"B\", \"A\", \"A\", \"B\", \"B\", \"A\", \"B\", \"A\", \"B\", \"B\", \"A\", \"A\", \"A\", \"A\", \"A\", \"A\", \"B\", \"B\", \"B\", \"B\", \"A\", \"A\", \"B\", \"A\", \"A\", \"B\", \"A\", \"B\", \"B\", \"B\", \"A\", \"A\", \"B\", \"A\", \"A\", \"B\", \"A\", \"B\", \"B\", \"B\", \"A\", \"B\", \"B\", \"A\", \"A\", \"B\", \"B\", \"A\", \"B\", \"A\", \"B\", \"B\", \"A\", \"A\", \"A\", \"A\", \"A\", \"A\", \"B\", \"B\", \"B\", \"B\", \"A\", \"A\", \"B\", \"A\", \"A\", \"B\", \"A\", \"B\", \"B\", \"B\", \"A\"], \"x0\": \" \", \"xaxis\": \"x\", \"y\": [6.7, 6.7, 3.7, 6.0, 6.1, 6.0, 4.2, 5.2, 7.2, 9.3, 5.6, 4.2, 3.7, 8.8, 1.4, 3.8, 8.4, 7.4, 5.2, 10.0, 6.5, 6.2, 8.6, 8.0, 6.7, 5.0, 9.0, 3.8, 6.6, 5.2, 3.2, 2.7, 6.7, 6.1, 5.6, 7.5, 5.0, 4.9, 8.1, 6.5, 5.7, 5.5, 8.0, 1.3, 7.4, 8.4, 4.5, 7.4, 7.4, 7.5, 5.6, 7.9, 6.0, 7.1, 4.9, 5.2, 5.3, 5.9, 3.7, 6.4, 6.9, 2.9, 4.1, 6.8, 5.8, 6.2, 4.3, 6.9, 6.0, 7.8, 4.3, 8.8, 6.0, 5.7, 3.6, 7.0, 7.1, 7.0, 5.5, 8.9, 5.2, 4.3, 9.1, 10.5, 2.6, 1.7, 7.1, 1.1, 5.9, 7.6, 6.2, 7.4, 3.6, 8.3, 5.0, 6.1, 7.5, 5.8, 3.0, 4.5, 4.3], \"y0\": \" \", \"yaxis\": \"y\"}, {\"alignmentgroup\": \"True\", \"hovertemplate\": \"Group=II<br>Treatment=%{x}<br>Cholesterol=%{y}<extra></extra>\", \"legendgroup\": \"II\", \"marker\": {\"color\": \"#EF553B\"}, \"name\": \"II\", \"notched\": false, \"offsetgroup\": \"II\", \"orientation\": \"v\", \"showlegend\": true, \"type\": \"box\", \"x\": [\"B\", \"A\", \"A\", \"B\", \"A\", \"B\", \"A\", \"B\", \"B\", \"A\", \"A\", \"B\", \"B\", \"A\", \"B\", \"A\", \"B\", \"B\", \"A\", \"A\", \"A\", \"B\", \"A\", \"A\", \"A\", \"A\", \"B\", \"A\", \"B\", \"A\", \"A\", \"B\", \"A\", \"B\", \"B\", \"B\", \"B\", \"B\", \"A\", \"B\", \"B\", \"A\", \"B\", \"A\", \"A\", \"B\", \"A\", \"B\", \"A\", \"B\", \"B\", \"A\", \"A\", \"B\", \"B\", \"A\", \"B\", \"A\", \"B\", \"B\", \"A\", \"A\", \"A\", \"B\", \"A\", \"A\", \"A\", \"A\", \"B\", \"A\", \"B\", \"A\", \"A\", \"B\", \"A\", \"B\", \"B\", \"B\", \"B\", \"B\", \"A\", \"B\", \"B\", \"A\", \"B\", \"A\", \"A\", \"B\", \"A\", \"B\", \"A\", \"B\", \"B\", \"A\", \"A\", \"B\", \"B\", \"A\", \"B\", \"A\"], \"x0\": \" \", \"xaxis\": \"x\", \"y\": [5.0, 4.0, 4.1, 8.4, 6.7, 6.9, 7.3, 8.2, 5.0, 12.3, 4.9, 5.8, 6.5, 1.1, 5.1, 2.6, 6.6, 5.2, 7.9, 7.5, 7.6, 4.2, 3.8, 6.7, 7.0, 7.0, 3.8, 6.5, 6.1, 6.0, 5.6, 3.7, 5.4, 5.8, 7.0, 5.4, 4.6, 11.7, 5.0, 5.0, 7.8, 6.0, 8.1, 8.1, 6.6, 6.3, 6.7, 7.2, 4.3, 7.2, 5.1, 6.2, 5.4, 5.5, 4.6, 10.0, 6.2, 6.7, 6.4, 5.2, 4.7, 8.4, 9.2, 2.3, 5.4, 4.5, 6.2, 8.5, 5.5, 9.8, 3.9, 6.6, 2.0, 5.0, 6.4, 5.5, 5.4, 6.2, 4.8, 7.6, 5.0, 6.1, 4.3, 3.8, 4.0, 9.5, 5.3, 8.7, 4.0, 5.1, 8.3, 3.2, 3.9, 8.4, 7.6, 7.6, 5.5, 7.4, 10.1, 3.9], \"y0\": \" \", \"yaxis\": \"y\"}, {\"alignmentgroup\": \"True\", \"hovertemplate\": \"Group=III<br>Treatment=%{x}<br>Cholesterol=%{y}<extra></extra>\", \"legendgroup\": \"III\", \"marker\": {\"color\": \"#00cc96\"}, \"name\": \"III\", \"notched\": false, \"offsetgroup\": \"III\", \"orientation\": \"v\", \"showlegend\": true, \"type\": \"box\", \"x\": [\"A\", \"A\", \"B\", \"A\", \"A\", \"B\", \"A\", \"B\", \"B\", \"B\", \"A\", \"A\", \"B\", \"A\", \"A\", \"B\", \"A\", \"B\", \"B\", \"B\", \"A\", \"B\", \"B\", \"A\", \"A\", \"B\", \"B\", \"A\", \"B\", \"A\", \"B\", \"B\", \"A\", \"A\", \"A\", \"A\", \"A\", \"A\", \"B\", \"B\", \"B\", \"B\", \"A\", \"A\", \"B\", \"A\", \"A\", \"B\", \"A\", \"B\", \"B\", \"B\", \"A\", \"A\", \"B\", \"A\", \"A\", \"B\", \"A\", \"B\", \"B\", \"B\", \"A\", \"B\", \"B\", \"A\", \"A\", \"B\", \"B\", \"A\", \"B\", \"A\", \"B\", \"B\", \"A\", \"A\", \"A\", \"A\", \"A\", \"A\", \"B\", \"B\", \"B\", \"B\", \"A\", \"A\", \"B\", \"A\", \"A\", \"B\", \"A\", \"B\", \"B\", \"B\", \"A\", \"A\", \"B\", \"A\", \"A\"], \"x0\": \" \", \"xaxis\": \"x\", \"y\": [10.3, 2.4, 9.1, 5.3, 3.5, 6.1, 5.4, 6.3, 7.0, 3.8, 6.9, 4.9, 5.1, 6.1, 4.8, 8.1, 5.2, 4.2, 7.3, 4.5, 6.3, 1.9, 6.5, 5.7, 8.6, 8.0, 3.6, 8.0, 7.7, 3.4, 4.7, 7.2, 5.5, 7.2, 5.6, 4.4, 8.5, 2.2, 7.0, 8.5, 4.6, 4.1, 7.9, 6.0, 8.2, 10.3, 6.0, 4.8, 6.2, 9.3, 5.8, 7.3, 4.8, 5.5, 3.1, 2.3, 5.1, 6.9, 4.7, 7.1, 7.5, 4.2, 6.1, 8.8, 4.0, 6.7, 5.2, 2.2, 6.2, 4.8, 5.1, 7.1, 2.7, 6.6, 8.0, 8.7, 7.5, 7.5, 6.1, 5.9, 8.1, 7.0, 7.7, 2.9, 5.1, 6.6, 5.3, 5.0, 5.9, 6.6, 5.4, 3.7, 6.1, 7.1, 4.2, 10.6, 4.9, 6.5, 6.6], \"y0\": \" \", \"yaxis\": \"y\"}],\n",
       "                        {\"boxmode\": \"group\", \"legend\": {\"title\": {\"text\": \"Group\"}, \"tracegroupgap\": 0}, \"margin\": {\"t\": 60}, \"template\": {\"data\": {\"bar\": [{\"error_x\": {\"color\": \"#2a3f5f\"}, \"error_y\": {\"color\": \"#2a3f5f\"}, \"marker\": {\"line\": {\"color\": \"#E5ECF6\", \"width\": 0.5}}, \"type\": \"bar\"}], \"barpolar\": [{\"marker\": {\"line\": {\"color\": \"#E5ECF6\", \"width\": 0.5}}, \"type\": \"barpolar\"}], \"carpet\": [{\"aaxis\": {\"endlinecolor\": \"#2a3f5f\", \"gridcolor\": \"white\", \"linecolor\": \"white\", \"minorgridcolor\": \"white\", \"startlinecolor\": \"#2a3f5f\"}, \"baxis\": {\"endlinecolor\": \"#2a3f5f\", \"gridcolor\": \"white\", \"linecolor\": \"white\", \"minorgridcolor\": \"white\", \"startlinecolor\": \"#2a3f5f\"}, \"type\": \"carpet\"}], \"choropleth\": [{\"colorbar\": {\"outlinewidth\": 0, \"ticks\": \"\"}, \"type\": \"choropleth\"}], \"contour\": [{\"colorbar\": {\"outlinewidth\": 0, \"ticks\": \"\"}, \"colorscale\": [[0.0, \"#0d0887\"], [0.1111111111111111, \"#46039f\"], [0.2222222222222222, \"#7201a8\"], [0.3333333333333333, \"#9c179e\"], [0.4444444444444444, \"#bd3786\"], [0.5555555555555556, \"#d8576b\"], [0.6666666666666666, \"#ed7953\"], [0.7777777777777778, \"#fb9f3a\"], [0.8888888888888888, \"#fdca26\"], [1.0, \"#f0f921\"]], \"type\": \"contour\"}], \"contourcarpet\": [{\"colorbar\": {\"outlinewidth\": 0, \"ticks\": \"\"}, \"type\": \"contourcarpet\"}], \"heatmap\": [{\"colorbar\": {\"outlinewidth\": 0, \"ticks\": \"\"}, \"colorscale\": [[0.0, \"#0d0887\"], [0.1111111111111111, \"#46039f\"], [0.2222222222222222, \"#7201a8\"], [0.3333333333333333, \"#9c179e\"], [0.4444444444444444, \"#bd3786\"], [0.5555555555555556, \"#d8576b\"], [0.6666666666666666, \"#ed7953\"], [0.7777777777777778, \"#fb9f3a\"], [0.8888888888888888, \"#fdca26\"], [1.0, \"#f0f921\"]], \"type\": \"heatmap\"}], \"heatmapgl\": [{\"colorbar\": {\"outlinewidth\": 0, \"ticks\": \"\"}, \"colorscale\": [[0.0, \"#0d0887\"], [0.1111111111111111, \"#46039f\"], [0.2222222222222222, \"#7201a8\"], [0.3333333333333333, \"#9c179e\"], [0.4444444444444444, \"#bd3786\"], [0.5555555555555556, \"#d8576b\"], [0.6666666666666666, \"#ed7953\"], [0.7777777777777778, \"#fb9f3a\"], [0.8888888888888888, \"#fdca26\"], [1.0, \"#f0f921\"]], \"type\": \"heatmapgl\"}], \"histogram\": [{\"marker\": {\"colorbar\": {\"outlinewidth\": 0, \"ticks\": \"\"}}, \"type\": \"histogram\"}], \"histogram2d\": [{\"colorbar\": {\"outlinewidth\": 0, \"ticks\": \"\"}, \"colorscale\": [[0.0, \"#0d0887\"], [0.1111111111111111, \"#46039f\"], [0.2222222222222222, \"#7201a8\"], [0.3333333333333333, \"#9c179e\"], [0.4444444444444444, \"#bd3786\"], [0.5555555555555556, \"#d8576b\"], [0.6666666666666666, \"#ed7953\"], [0.7777777777777778, \"#fb9f3a\"], [0.8888888888888888, \"#fdca26\"], [1.0, \"#f0f921\"]], \"type\": \"histogram2d\"}], \"histogram2dcontour\": [{\"colorbar\": {\"outlinewidth\": 0, \"ticks\": \"\"}, \"colorscale\": [[0.0, \"#0d0887\"], [0.1111111111111111, \"#46039f\"], [0.2222222222222222, \"#7201a8\"], [0.3333333333333333, \"#9c179e\"], [0.4444444444444444, \"#bd3786\"], [0.5555555555555556, \"#d8576b\"], [0.6666666666666666, \"#ed7953\"], [0.7777777777777778, \"#fb9f3a\"], [0.8888888888888888, \"#fdca26\"], [1.0, \"#f0f921\"]], \"type\": \"histogram2dcontour\"}], \"mesh3d\": [{\"colorbar\": {\"outlinewidth\": 0, \"ticks\": \"\"}, \"type\": \"mesh3d\"}], \"parcoords\": [{\"line\": {\"colorbar\": {\"outlinewidth\": 0, \"ticks\": \"\"}}, \"type\": \"parcoords\"}], \"pie\": [{\"automargin\": true, \"type\": \"pie\"}], \"scatter\": [{\"marker\": {\"colorbar\": {\"outlinewidth\": 0, \"ticks\": \"\"}}, \"type\": \"scatter\"}], \"scatter3d\": [{\"line\": {\"colorbar\": {\"outlinewidth\": 0, \"ticks\": \"\"}}, \"marker\": {\"colorbar\": {\"outlinewidth\": 0, \"ticks\": \"\"}}, \"type\": \"scatter3d\"}], \"scattercarpet\": [{\"marker\": {\"colorbar\": {\"outlinewidth\": 0, \"ticks\": \"\"}}, \"type\": \"scattercarpet\"}], \"scattergeo\": [{\"marker\": {\"colorbar\": {\"outlinewidth\": 0, \"ticks\": \"\"}}, \"type\": \"scattergeo\"}], \"scattergl\": [{\"marker\": {\"colorbar\": {\"outlinewidth\": 0, \"ticks\": \"\"}}, \"type\": \"scattergl\"}], \"scattermapbox\": [{\"marker\": {\"colorbar\": {\"outlinewidth\": 0, \"ticks\": \"\"}}, \"type\": \"scattermapbox\"}], \"scatterpolar\": [{\"marker\": {\"colorbar\": {\"outlinewidth\": 0, \"ticks\": \"\"}}, \"type\": \"scatterpolar\"}], \"scatterpolargl\": [{\"marker\": {\"colorbar\": {\"outlinewidth\": 0, \"ticks\": \"\"}}, \"type\": \"scatterpolargl\"}], \"scatterternary\": [{\"marker\": {\"colorbar\": {\"outlinewidth\": 0, \"ticks\": \"\"}}, \"type\": \"scatterternary\"}], \"surface\": [{\"colorbar\": {\"outlinewidth\": 0, \"ticks\": \"\"}, \"colorscale\": [[0.0, \"#0d0887\"], [0.1111111111111111, \"#46039f\"], [0.2222222222222222, \"#7201a8\"], [0.3333333333333333, \"#9c179e\"], [0.4444444444444444, \"#bd3786\"], [0.5555555555555556, \"#d8576b\"], [0.6666666666666666, \"#ed7953\"], [0.7777777777777778, \"#fb9f3a\"], [0.8888888888888888, \"#fdca26\"], [1.0, \"#f0f921\"]], \"type\": \"surface\"}], \"table\": [{\"cells\": {\"fill\": {\"color\": \"#EBF0F8\"}, \"line\": {\"color\": \"white\"}}, \"header\": {\"fill\": {\"color\": \"#C8D4E3\"}, \"line\": {\"color\": \"white\"}}, \"type\": \"table\"}]}, \"layout\": {\"annotationdefaults\": {\"arrowcolor\": \"#2a3f5f\", \"arrowhead\": 0, \"arrowwidth\": 1}, \"coloraxis\": {\"colorbar\": {\"outlinewidth\": 0, \"ticks\": \"\"}}, \"colorscale\": {\"diverging\": [[0, \"#8e0152\"], [0.1, \"#c51b7d\"], [0.2, \"#de77ae\"], [0.3, \"#f1b6da\"], [0.4, \"#fde0ef\"], [0.5, \"#f7f7f7\"], [0.6, \"#e6f5d0\"], [0.7, \"#b8e186\"], [0.8, \"#7fbc41\"], [0.9, \"#4d9221\"], [1, \"#276419\"]], \"sequential\": [[0.0, \"#0d0887\"], [0.1111111111111111, \"#46039f\"], [0.2222222222222222, \"#7201a8\"], [0.3333333333333333, \"#9c179e\"], [0.4444444444444444, \"#bd3786\"], [0.5555555555555556, \"#d8576b\"], [0.6666666666666666, \"#ed7953\"], [0.7777777777777778, \"#fb9f3a\"], [0.8888888888888888, \"#fdca26\"], [1.0, \"#f0f921\"]], \"sequentialminus\": [[0.0, \"#0d0887\"], [0.1111111111111111, \"#46039f\"], [0.2222222222222222, \"#7201a8\"], [0.3333333333333333, \"#9c179e\"], [0.4444444444444444, \"#bd3786\"], [0.5555555555555556, \"#d8576b\"], [0.6666666666666666, \"#ed7953\"], [0.7777777777777778, \"#fb9f3a\"], [0.8888888888888888, \"#fdca26\"], [1.0, \"#f0f921\"]]}, \"colorway\": [\"#636efa\", \"#EF553B\", \"#00cc96\", \"#ab63fa\", \"#FFA15A\", \"#19d3f3\", \"#FF6692\", \"#B6E880\", \"#FF97FF\", \"#FECB52\"], \"font\": {\"color\": \"#2a3f5f\"}, \"geo\": {\"bgcolor\": \"white\", \"lakecolor\": \"white\", \"landcolor\": \"#E5ECF6\", \"showlakes\": true, \"showland\": true, \"subunitcolor\": \"white\"}, \"hoverlabel\": {\"align\": \"left\"}, \"hovermode\": \"closest\", \"mapbox\": {\"style\": \"light\"}, \"paper_bgcolor\": \"white\", \"plot_bgcolor\": \"#E5ECF6\", \"polar\": {\"angularaxis\": {\"gridcolor\": \"white\", \"linecolor\": \"white\", \"ticks\": \"\"}, \"bgcolor\": \"#E5ECF6\", \"radialaxis\": {\"gridcolor\": \"white\", \"linecolor\": \"white\", \"ticks\": \"\"}}, \"scene\": {\"xaxis\": {\"backgroundcolor\": \"#E5ECF6\", \"gridcolor\": \"white\", \"gridwidth\": 2, \"linecolor\": \"white\", \"showbackground\": true, \"ticks\": \"\", \"zerolinecolor\": \"white\"}, \"yaxis\": {\"backgroundcolor\": \"#E5ECF6\", \"gridcolor\": \"white\", \"gridwidth\": 2, \"linecolor\": \"white\", \"showbackground\": true, \"ticks\": \"\", \"zerolinecolor\": \"white\"}, \"zaxis\": {\"backgroundcolor\": \"#E5ECF6\", \"gridcolor\": \"white\", \"gridwidth\": 2, \"linecolor\": \"white\", \"showbackground\": true, \"ticks\": \"\", \"zerolinecolor\": \"white\"}}, \"shapedefaults\": {\"line\": {\"color\": \"#2a3f5f\"}}, \"ternary\": {\"aaxis\": {\"gridcolor\": \"white\", \"linecolor\": \"white\", \"ticks\": \"\"}, \"baxis\": {\"gridcolor\": \"white\", \"linecolor\": \"white\", \"ticks\": \"\"}, \"bgcolor\": \"#E5ECF6\", \"caxis\": {\"gridcolor\": \"white\", \"linecolor\": \"white\", \"ticks\": \"\"}}, \"title\": {\"x\": 0.05}, \"xaxis\": {\"automargin\": true, \"gridcolor\": \"white\", \"linecolor\": \"white\", \"ticks\": \"\", \"title\": {\"standoff\": 15}, \"zerolinecolor\": \"white\", \"zerolinewidth\": 2}, \"yaxis\": {\"automargin\": true, \"gridcolor\": \"white\", \"linecolor\": \"white\", \"ticks\": \"\", \"title\": {\"standoff\": 15}, \"zerolinecolor\": \"white\", \"zerolinewidth\": 2}}}, \"xaxis\": {\"anchor\": \"y\", \"domain\": [0.0, 1.0], \"title\": {\"text\": \"Treatment\"}}, \"yaxis\": {\"anchor\": \"x\", \"domain\": [0.0, 1.0], \"title\": {\"text\": \"Cholesterol\"}}},\n",
       "                        {\"responsive\": true}\n",
       "                    ).then(function(){\n",
       "                            \n",
       "var gd = document.getElementById('f191d8a6-4904-4272-9812-12362f82b6c3');\n",
       "var x = new MutationObserver(function (mutations, observer) {{\n",
       "        var display = window.getComputedStyle(gd).display;\n",
       "        if (!display || display === 'none') {{\n",
       "            console.log([gd, 'removed!']);\n",
       "            Plotly.purge(gd);\n",
       "            observer.disconnect();\n",
       "        }}\n",
       "}});\n",
       "\n",
       "// Listen for the removal of the full notebook cells\n",
       "var notebookContainer = gd.closest('#notebook-container');\n",
       "if (notebookContainer) {{\n",
       "    x.observe(notebookContainer, {childList: true});\n",
       "}}\n",
       "\n",
       "// Listen for the clearing of the current output cell\n",
       "var outputEl = gd.closest('.output');\n",
       "if (outputEl) {{\n",
       "    x.observe(outputEl, {childList: true});\n",
       "}}\n",
       "\n",
       "                        })\n",
       "                };\n",
       "                });\n",
       "            </script>\n",
       "        </div>"
      ]
     },
     "metadata": {},
     "output_type": "display_data"
    }
   ],
   "source": [
    "px.box(df, x= \"Treatment\", y= \"Cholesterol\", color = \"Group\")"
   ]
  },
  {
   "cell_type": "code",
   "execution_count": 42,
   "metadata": {},
   "outputs": [
    {
     "data": {
      "application/vnd.plotly.v1+json": {
       "config": {
        "plotlyServerURL": "https://plot.ly"
       },
       "data": [
        {
         "hovertemplate": "Age=%{x}<br>Cholesterol=%{y}<extra></extra>",
         "legendgroup": "",
         "marker": {
          "color": "#636efa",
          "symbol": "circle"
         },
         "mode": "markers",
         "name": "",
         "orientation": "v",
         "showlegend": false,
         "type": "scatter",
         "x": [
          74,
          68,
          21,
          66,
          37,
          43,
          63,
          13,
          58,
          46,
          35,
          38,
          65,
          57,
          26,
          49,
          74,
          62,
          26,
          56,
          47,
          60,
          26,
          76,
          61,
          42,
          64,
          53,
          71,
          29,
          31,
          59,
          34,
          37,
          28,
          68,
          45,
          61,
          51,
          52,
          22,
          76,
          57,
          31,
          66,
          76,
          36,
          18,
          65,
          41,
          41,
          76,
          36,
          24,
          43,
          56,
          36,
          82,
          31,
          30,
          65,
          47,
          84,
          31,
          47,
          36,
          61,
          49,
          35,
          63,
          52,
          71,
          52,
          76,
          34,
          69,
          10,
          59,
          50,
          37,
          83,
          68,
          38,
          57,
          45,
          32,
          80,
          51,
          46,
          44,
          28,
          56,
          34,
          61,
          86,
          40,
          73,
          14,
          29,
          51,
          46,
          48,
          40,
          42,
          40,
          61,
          51,
          74,
          32,
          68,
          16,
          58,
          96,
          22,
          42,
          57,
          67,
          36,
          10,
          77,
          68,
          37,
          63,
          102,
          89,
          42,
          33,
          68,
          30,
          81,
          53,
          71,
          51,
          52,
          19,
          63,
          36,
          41,
          45,
          74,
          38,
          47,
          71,
          81,
          65,
          56,
          32,
          42,
          57,
          23,
          31,
          82,
          64,
          71,
          66,
          56,
          44,
          60,
          51,
          41,
          61,
          29,
          47,
          41,
          37,
          55,
          33,
          47,
          55,
          27,
          42,
          97,
          56,
          13,
          27,
          73,
          63,
          18,
          41,
          26,
          32,
          62,
          51,
          28,
          41,
          56,
          78,
          82,
          45,
          78,
          61,
          82,
          63,
          104,
          28,
          46,
          52,
          61,
          23,
          84,
          60,
          42,
          73,
          42,
          40,
          50,
          64,
          81,
          76,
          52,
          57,
          64,
          36,
          65,
          53,
          29,
          55,
          32,
          56,
          46,
          60,
          39,
          59,
          66,
          78,
          25,
          67,
          58,
          52,
          60,
          32,
          49,
          68,
          52,
          62,
          69,
          49,
          57,
          64,
          77,
          60,
          45,
          86,
          62,
          43,
          47,
          57,
          55,
          39,
          45,
          37,
          18,
          62,
          41,
          50,
          48,
          55,
          54,
          48,
          64,
          35,
          29,
          73,
          74,
          85,
          62,
          39,
          18,
          23,
          55,
          41,
          33,
          74,
          79,
          44,
          35,
          65,
          58,
          32,
          65,
          17,
          74,
          54,
          45,
          70,
          27,
          52,
          84,
          69,
          60,
          28,
          32,
          42,
          36,
          71,
          68,
          46,
          70,
          2,
          103
         ],
         "xaxis": "x",
         "y": [
          6.7,
          6.7,
          5,
          3.7,
          10.3,
          2.4,
          4,
          9.1,
          4.1,
          6,
          6.1,
          8.4,
          6,
          5.3,
          3.5,
          6.7,
          6.1,
          6.9,
          4.2,
          5.2,
          7.3,
          7.2,
          5.4,
          6.3,
          8.2,
          7,
          5,
          9.3,
          5.6,
          12.3,
          4.2,
          3.8,
          6.9,
          4.9,
          4.9,
          5.8,
          3.7,
          8.8,
          6.5,
          1.4,
          5.1,
          6.1,
          1.1,
          4.8,
          5.1,
          3.8,
          8.4,
          2.6,
          7.4,
          8.1,
          5.2,
          6.6,
          4.2,
          5.2,
          5.2,
          10,
          7.9,
          6.5,
          7.3,
          4.5,
          7.5,
          6.3,
          7.6,
          6.2,
          8.6,
          4.2,
          8,
          1.9,
          6.5,
          3.8,
          5.7,
          6.7,
          6.7,
          5,
          7,
          9,
          8.6,
          8,
          7,
          3.6,
          3.8,
          3.8,
          6.6,
          6.5,
          5.2,
          8,
          7.7,
          6.1,
          3.4,
          6,
          3.2,
          2.7,
          5.6,
          6.7,
          4.7,
          7.2,
          3.7,
          5.5,
          5.4,
          6.1,
          5.6,
          5.8,
          7.5,
          7.2,
          5.6,
          7,
          4.4,
          5.4,
          5,
          4.9,
          4.6,
          8.1,
          8.5,
          2.2,
          11.7,
          7,
          5,
          6.5,
          5.7,
          5,
          5.5,
          8.5,
          4.6,
          7.8,
          4.1,
          6,
          8,
          1.3,
          8.1,
          7.4,
          7.9,
          6,
          8.1,
          8.2,
          6.6,
          8.4,
          4.5,
          6.3,
          7.4,
          10.3,
          6,
          6.7,
          4.8,
          7.2,
          7.4,
          7.5,
          4.3,
          5.6,
          6.2,
          9.3,
          7.2,
          5.8,
          5.1,
          7.9,
          6,
          6.2,
          7.1,
          7.3,
          4.8,
          5.4,
          5.5,
          5.5,
          4.9,
          5.2,
          4.6,
          5.3,
          3.1,
          2.3,
          10,
          5.1,
          6.2,
          5.9,
          3.7,
          6.7,
          6.4,
          6.9,
          4.7,
          6.4,
          7.1,
          5.2,
          6.9,
          2.9,
          4.7,
          4.1,
          7.5,
          4.2,
          8.4,
          6.1,
          9.2,
          6.8,
          5.8,
          2.3,
          6.2,
          8.8,
          4,
          5.4,
          6.7,
          4.5,
          4.3,
          6.9,
          6.2,
          6,
          5.2,
          2.2,
          8.5,
          6.2,
          5.5,
          7.8,
          4.3,
          9.8,
          8.8,
          4.8,
          5.1,
          3.9,
          7.1,
          6.6,
          6,
          5.7,
          2,
          3.6,
          2.7,
          6.6,
          5,
          8,
          6.4,
          7,
          7.1,
          5.5,
          7,
          8.7,
          7.5,
          5.4,
          7.5,
          6.2,
          5.5,
          8.9,
          4.8,
          5.2,
          6.1,
          5.9,
          7.6,
          8.1,
          5,
          4.3,
          9.1,
          6.1,
          10.5,
          7,
          7.7,
          4.3,
          2.9,
          3.8,
          2.6,
          1.7,
          4,
          7.1,
          5.1,
          6.6,
          9.5,
          5.3,
          5.3,
          1.1,
          5.9,
          8.7,
          7.6,
          5,
          5.9,
          4,
          6.6,
          5.1,
          6.2,
          7.4,
          8.3,
          3.6,
          5.4,
          3.7,
          3.2,
          6.1,
          3.9,
          8.3,
          5,
          8.4,
          6.1,
          7.1,
          4.2,
          7.6,
          10.6,
          7.6,
          7.5,
          5.8,
          5.5,
          3,
          4.9,
          6.5,
          7.4,
          6.6,
          10.1,
          4.5,
          4.3,
          3.9
         ],
         "yaxis": "y"
        },
        {
         "hovertemplate": "<b>OLS trendline</b><br>Cholesterol = 0.00800614 * Age + 5.59411<br>R<sup>2</sup>=0.006170<br><br>Age=%{x}<br>Cholesterol=%{y} <b>(trend)</b><extra></extra>",
         "legendgroup": "",
         "marker": {
          "color": "#636efa",
          "symbol": "circle"
         },
         "mode": "lines",
         "name": "",
         "showlegend": false,
         "type": "scatter",
         "x": [
          2,
          10,
          10,
          13,
          13,
          14,
          16,
          17,
          18,
          18,
          18,
          18,
          19,
          21,
          22,
          22,
          23,
          23,
          23,
          24,
          25,
          26,
          26,
          26,
          26,
          27,
          27,
          27,
          28,
          28,
          28,
          28,
          28,
          29,
          29,
          29,
          29,
          29,
          30,
          30,
          31,
          31,
          31,
          31,
          31,
          32,
          32,
          32,
          32,
          32,
          32,
          32,
          32,
          33,
          33,
          33,
          34,
          34,
          34,
          35,
          35,
          35,
          35,
          36,
          36,
          36,
          36,
          36,
          36,
          36,
          36,
          37,
          37,
          37,
          37,
          37,
          37,
          38,
          38,
          38,
          39,
          39,
          39,
          40,
          40,
          40,
          40,
          41,
          41,
          41,
          41,
          41,
          41,
          41,
          41,
          41,
          42,
          42,
          42,
          42,
          42,
          42,
          42,
          42,
          42,
          43,
          43,
          43,
          44,
          44,
          44,
          45,
          45,
          45,
          45,
          45,
          45,
          45,
          46,
          46,
          46,
          46,
          46,
          46,
          47,
          47,
          47,
          47,
          47,
          47,
          47,
          48,
          48,
          48,
          49,
          49,
          49,
          49,
          50,
          50,
          50,
          51,
          51,
          51,
          51,
          51,
          51,
          51,
          52,
          52,
          52,
          52,
          52,
          52,
          52,
          52,
          52,
          53,
          53,
          53,
          54,
          54,
          55,
          55,
          55,
          55,
          55,
          55,
          56,
          56,
          56,
          56,
          56,
          56,
          56,
          56,
          57,
          57,
          57,
          57,
          57,
          57,
          57,
          57,
          58,
          58,
          58,
          58,
          59,
          59,
          59,
          60,
          60,
          60,
          60,
          60,
          60,
          60,
          61,
          61,
          61,
          61,
          61,
          61,
          61,
          61,
          62,
          62,
          62,
          62,
          62,
          62,
          63,
          63,
          63,
          63,
          63,
          63,
          64,
          64,
          64,
          64,
          64,
          64,
          65,
          65,
          65,
          65,
          65,
          65,
          65,
          66,
          66,
          66,
          66,
          67,
          67,
          68,
          68,
          68,
          68,
          68,
          68,
          68,
          68,
          69,
          69,
          69,
          70,
          70,
          71,
          71,
          71,
          71,
          71,
          71,
          73,
          73,
          73,
          73,
          74,
          74,
          74,
          74,
          74,
          74,
          74,
          76,
          76,
          76,
          76,
          76,
          76,
          77,
          77,
          78,
          78,
          78,
          79,
          80,
          81,
          81,
          81,
          82,
          82,
          82,
          82,
          83,
          84,
          84,
          84,
          85,
          86,
          86,
          89,
          96,
          97,
          102,
          103,
          104
         ],
         "xaxis": "x",
         "y": [
          5.610121880811452,
          5.674171026609121,
          5.674171026609121,
          5.698189456283247,
          5.698189456283247,
          5.706195599507955,
          5.722207885957372,
          5.730214029182082,
          5.73822017240679,
          5.73822017240679,
          5.73822017240679,
          5.73822017240679,
          5.746226315631499,
          5.762238602080916,
          5.770244745305624,
          5.770244745305624,
          5.778250888530334,
          5.778250888530334,
          5.778250888530334,
          5.786257031755042,
          5.794263174979751,
          5.802269318204459,
          5.802269318204459,
          5.802269318204459,
          5.802269318204459,
          5.810275461429168,
          5.810275461429168,
          5.810275461429168,
          5.818281604653876,
          5.818281604653876,
          5.818281604653876,
          5.818281604653876,
          5.818281604653876,
          5.826287747878585,
          5.826287747878585,
          5.826287747878585,
          5.826287747878585,
          5.826287747878585,
          5.834293891103294,
          5.834293891103294,
          5.8423000343280025,
          5.8423000343280025,
          5.8423000343280025,
          5.8423000343280025,
          5.8423000343280025,
          5.850306177552711,
          5.850306177552711,
          5.850306177552711,
          5.850306177552711,
          5.850306177552711,
          5.850306177552711,
          5.850306177552711,
          5.850306177552711,
          5.8583123207774195,
          5.8583123207774195,
          5.8583123207774195,
          5.866318464002128,
          5.866318464002128,
          5.866318464002128,
          5.8743246072268365,
          5.8743246072268365,
          5.8743246072268365,
          5.8743246072268365,
          5.882330750451546,
          5.882330750451546,
          5.882330750451546,
          5.882330750451546,
          5.882330750451546,
          5.882330750451546,
          5.882330750451546,
          5.882330750451546,
          5.890336893676254,
          5.890336893676254,
          5.890336893676254,
          5.890336893676254,
          5.890336893676254,
          5.890336893676254,
          5.898343036900963,
          5.898343036900963,
          5.898343036900963,
          5.906349180125671,
          5.906349180125671,
          5.906349180125671,
          5.91435532335038,
          5.91435532335038,
          5.91435532335038,
          5.91435532335038,
          5.922361466575088,
          5.922361466575088,
          5.922361466575088,
          5.922361466575088,
          5.922361466575088,
          5.922361466575088,
          5.922361466575088,
          5.922361466575088,
          5.922361466575088,
          5.930367609799797,
          5.930367609799797,
          5.930367609799797,
          5.930367609799797,
          5.930367609799797,
          5.930367609799797,
          5.930367609799797,
          5.930367609799797,
          5.930367609799797,
          5.938373753024506,
          5.938373753024506,
          5.938373753024506,
          5.946379896249215,
          5.946379896249215,
          5.946379896249215,
          5.954386039473923,
          5.954386039473923,
          5.954386039473923,
          5.954386039473923,
          5.954386039473923,
          5.954386039473923,
          5.954386039473923,
          5.962392182698632,
          5.962392182698632,
          5.962392182698632,
          5.962392182698632,
          5.962392182698632,
          5.962392182698632,
          5.97039832592334,
          5.97039832592334,
          5.97039832592334,
          5.97039832592334,
          5.97039832592334,
          5.97039832592334,
          5.97039832592334,
          5.978404469148049,
          5.978404469148049,
          5.978404469148049,
          5.986410612372757,
          5.986410612372757,
          5.986410612372757,
          5.986410612372757,
          5.994416755597467,
          5.994416755597467,
          5.994416755597467,
          6.002422898822175,
          6.002422898822175,
          6.002422898822175,
          6.002422898822175,
          6.002422898822175,
          6.002422898822175,
          6.002422898822175,
          6.0104290420468836,
          6.0104290420468836,
          6.0104290420468836,
          6.0104290420468836,
          6.0104290420468836,
          6.0104290420468836,
          6.0104290420468836,
          6.0104290420468836,
          6.0104290420468836,
          6.018435185271592,
          6.018435185271592,
          6.018435185271592,
          6.0264413284963005,
          6.0264413284963005,
          6.034447471721009,
          6.034447471721009,
          6.034447471721009,
          6.034447471721009,
          6.034447471721009,
          6.034447471721009,
          6.0424536149457175,
          6.0424536149457175,
          6.0424536149457175,
          6.0424536149457175,
          6.0424536149457175,
          6.0424536149457175,
          6.0424536149457175,
          6.0424536149457175,
          6.050459758170427,
          6.050459758170427,
          6.050459758170427,
          6.050459758170427,
          6.050459758170427,
          6.050459758170427,
          6.050459758170427,
          6.050459758170427,
          6.058465901395135,
          6.058465901395135,
          6.058465901395135,
          6.058465901395135,
          6.066472044619844,
          6.066472044619844,
          6.066472044619844,
          6.074478187844552,
          6.074478187844552,
          6.074478187844552,
          6.074478187844552,
          6.074478187844552,
          6.074478187844552,
          6.074478187844552,
          6.082484331069261,
          6.082484331069261,
          6.082484331069261,
          6.082484331069261,
          6.082484331069261,
          6.082484331069261,
          6.082484331069261,
          6.082484331069261,
          6.090490474293969,
          6.090490474293969,
          6.090490474293969,
          6.090490474293969,
          6.090490474293969,
          6.090490474293969,
          6.098496617518679,
          6.098496617518679,
          6.098496617518679,
          6.098496617518679,
          6.098496617518679,
          6.098496617518679,
          6.106502760743387,
          6.106502760743387,
          6.106502760743387,
          6.106502760743387,
          6.106502760743387,
          6.106502760743387,
          6.114508903968096,
          6.114508903968096,
          6.114508903968096,
          6.114508903968096,
          6.114508903968096,
          6.114508903968096,
          6.114508903968096,
          6.122515047192804,
          6.122515047192804,
          6.122515047192804,
          6.122515047192804,
          6.130521190417513,
          6.130521190417513,
          6.138527333642221,
          6.138527333642221,
          6.138527333642221,
          6.138527333642221,
          6.138527333642221,
          6.138527333642221,
          6.138527333642221,
          6.138527333642221,
          6.14653347686693,
          6.14653347686693,
          6.14653347686693,
          6.154539620091639,
          6.154539620091639,
          6.162545763316348,
          6.162545763316348,
          6.162545763316348,
          6.162545763316348,
          6.162545763316348,
          6.162545763316348,
          6.178558049765765,
          6.178558049765765,
          6.178558049765765,
          6.178558049765765,
          6.186564192990473,
          6.186564192990473,
          6.186564192990473,
          6.186564192990473,
          6.186564192990473,
          6.186564192990473,
          6.186564192990473,
          6.202576479439891,
          6.202576479439891,
          6.202576479439891,
          6.202576479439891,
          6.202576479439891,
          6.202576479439891,
          6.2105826226645995,
          6.2105826226645995,
          6.218588765889308,
          6.218588765889308,
          6.218588765889308,
          6.2265949091140165,
          6.234601052338725,
          6.2426071955634335,
          6.2426071955634335,
          6.2426071955634335,
          6.250613338788142,
          6.250613338788142,
          6.250613338788142,
          6.250613338788142,
          6.258619482012851,
          6.26662562523756,
          6.26662562523756,
          6.26662562523756,
          6.274631768462268,
          6.282637911686977,
          6.282637911686977,
          6.306656341361103,
          6.362699343934064,
          6.370705487158772,
          6.410736203282315,
          6.418742346507024,
          6.426748489731732
         ],
         "yaxis": "y"
        }
       ],
       "layout": {
        "legend": {
         "tracegroupgap": 0
        },
        "margin": {
         "t": 60
        },
        "template": {
         "data": {
          "bar": [
           {
            "error_x": {
             "color": "#2a3f5f"
            },
            "error_y": {
             "color": "#2a3f5f"
            },
            "marker": {
             "line": {
              "color": "#E5ECF6",
              "width": 0.5
             }
            },
            "type": "bar"
           }
          ],
          "barpolar": [
           {
            "marker": {
             "line": {
              "color": "#E5ECF6",
              "width": 0.5
             }
            },
            "type": "barpolar"
           }
          ],
          "carpet": [
           {
            "aaxis": {
             "endlinecolor": "#2a3f5f",
             "gridcolor": "white",
             "linecolor": "white",
             "minorgridcolor": "white",
             "startlinecolor": "#2a3f5f"
            },
            "baxis": {
             "endlinecolor": "#2a3f5f",
             "gridcolor": "white",
             "linecolor": "white",
             "minorgridcolor": "white",
             "startlinecolor": "#2a3f5f"
            },
            "type": "carpet"
           }
          ],
          "choropleth": [
           {
            "colorbar": {
             "outlinewidth": 0,
             "ticks": ""
            },
            "type": "choropleth"
           }
          ],
          "contour": [
           {
            "colorbar": {
             "outlinewidth": 0,
             "ticks": ""
            },
            "colorscale": [
             [
              0,
              "#0d0887"
             ],
             [
              0.1111111111111111,
              "#46039f"
             ],
             [
              0.2222222222222222,
              "#7201a8"
             ],
             [
              0.3333333333333333,
              "#9c179e"
             ],
             [
              0.4444444444444444,
              "#bd3786"
             ],
             [
              0.5555555555555556,
              "#d8576b"
             ],
             [
              0.6666666666666666,
              "#ed7953"
             ],
             [
              0.7777777777777778,
              "#fb9f3a"
             ],
             [
              0.8888888888888888,
              "#fdca26"
             ],
             [
              1,
              "#f0f921"
             ]
            ],
            "type": "contour"
           }
          ],
          "contourcarpet": [
           {
            "colorbar": {
             "outlinewidth": 0,
             "ticks": ""
            },
            "type": "contourcarpet"
           }
          ],
          "heatmap": [
           {
            "colorbar": {
             "outlinewidth": 0,
             "ticks": ""
            },
            "colorscale": [
             [
              0,
              "#0d0887"
             ],
             [
              0.1111111111111111,
              "#46039f"
             ],
             [
              0.2222222222222222,
              "#7201a8"
             ],
             [
              0.3333333333333333,
              "#9c179e"
             ],
             [
              0.4444444444444444,
              "#bd3786"
             ],
             [
              0.5555555555555556,
              "#d8576b"
             ],
             [
              0.6666666666666666,
              "#ed7953"
             ],
             [
              0.7777777777777778,
              "#fb9f3a"
             ],
             [
              0.8888888888888888,
              "#fdca26"
             ],
             [
              1,
              "#f0f921"
             ]
            ],
            "type": "heatmap"
           }
          ],
          "heatmapgl": [
           {
            "colorbar": {
             "outlinewidth": 0,
             "ticks": ""
            },
            "colorscale": [
             [
              0,
              "#0d0887"
             ],
             [
              0.1111111111111111,
              "#46039f"
             ],
             [
              0.2222222222222222,
              "#7201a8"
             ],
             [
              0.3333333333333333,
              "#9c179e"
             ],
             [
              0.4444444444444444,
              "#bd3786"
             ],
             [
              0.5555555555555556,
              "#d8576b"
             ],
             [
              0.6666666666666666,
              "#ed7953"
             ],
             [
              0.7777777777777778,
              "#fb9f3a"
             ],
             [
              0.8888888888888888,
              "#fdca26"
             ],
             [
              1,
              "#f0f921"
             ]
            ],
            "type": "heatmapgl"
           }
          ],
          "histogram": [
           {
            "marker": {
             "colorbar": {
              "outlinewidth": 0,
              "ticks": ""
             }
            },
            "type": "histogram"
           }
          ],
          "histogram2d": [
           {
            "colorbar": {
             "outlinewidth": 0,
             "ticks": ""
            },
            "colorscale": [
             [
              0,
              "#0d0887"
             ],
             [
              0.1111111111111111,
              "#46039f"
             ],
             [
              0.2222222222222222,
              "#7201a8"
             ],
             [
              0.3333333333333333,
              "#9c179e"
             ],
             [
              0.4444444444444444,
              "#bd3786"
             ],
             [
              0.5555555555555556,
              "#d8576b"
             ],
             [
              0.6666666666666666,
              "#ed7953"
             ],
             [
              0.7777777777777778,
              "#fb9f3a"
             ],
             [
              0.8888888888888888,
              "#fdca26"
             ],
             [
              1,
              "#f0f921"
             ]
            ],
            "type": "histogram2d"
           }
          ],
          "histogram2dcontour": [
           {
            "colorbar": {
             "outlinewidth": 0,
             "ticks": ""
            },
            "colorscale": [
             [
              0,
              "#0d0887"
             ],
             [
              0.1111111111111111,
              "#46039f"
             ],
             [
              0.2222222222222222,
              "#7201a8"
             ],
             [
              0.3333333333333333,
              "#9c179e"
             ],
             [
              0.4444444444444444,
              "#bd3786"
             ],
             [
              0.5555555555555556,
              "#d8576b"
             ],
             [
              0.6666666666666666,
              "#ed7953"
             ],
             [
              0.7777777777777778,
              "#fb9f3a"
             ],
             [
              0.8888888888888888,
              "#fdca26"
             ],
             [
              1,
              "#f0f921"
             ]
            ],
            "type": "histogram2dcontour"
           }
          ],
          "mesh3d": [
           {
            "colorbar": {
             "outlinewidth": 0,
             "ticks": ""
            },
            "type": "mesh3d"
           }
          ],
          "parcoords": [
           {
            "line": {
             "colorbar": {
              "outlinewidth": 0,
              "ticks": ""
             }
            },
            "type": "parcoords"
           }
          ],
          "pie": [
           {
            "automargin": true,
            "type": "pie"
           }
          ],
          "scatter": [
           {
            "marker": {
             "colorbar": {
              "outlinewidth": 0,
              "ticks": ""
             }
            },
            "type": "scatter"
           }
          ],
          "scatter3d": [
           {
            "line": {
             "colorbar": {
              "outlinewidth": 0,
              "ticks": ""
             }
            },
            "marker": {
             "colorbar": {
              "outlinewidth": 0,
              "ticks": ""
             }
            },
            "type": "scatter3d"
           }
          ],
          "scattercarpet": [
           {
            "marker": {
             "colorbar": {
              "outlinewidth": 0,
              "ticks": ""
             }
            },
            "type": "scattercarpet"
           }
          ],
          "scattergeo": [
           {
            "marker": {
             "colorbar": {
              "outlinewidth": 0,
              "ticks": ""
             }
            },
            "type": "scattergeo"
           }
          ],
          "scattergl": [
           {
            "marker": {
             "colorbar": {
              "outlinewidth": 0,
              "ticks": ""
             }
            },
            "type": "scattergl"
           }
          ],
          "scattermapbox": [
           {
            "marker": {
             "colorbar": {
              "outlinewidth": 0,
              "ticks": ""
             }
            },
            "type": "scattermapbox"
           }
          ],
          "scatterpolar": [
           {
            "marker": {
             "colorbar": {
              "outlinewidth": 0,
              "ticks": ""
             }
            },
            "type": "scatterpolar"
           }
          ],
          "scatterpolargl": [
           {
            "marker": {
             "colorbar": {
              "outlinewidth": 0,
              "ticks": ""
             }
            },
            "type": "scatterpolargl"
           }
          ],
          "scatterternary": [
           {
            "marker": {
             "colorbar": {
              "outlinewidth": 0,
              "ticks": ""
             }
            },
            "type": "scatterternary"
           }
          ],
          "surface": [
           {
            "colorbar": {
             "outlinewidth": 0,
             "ticks": ""
            },
            "colorscale": [
             [
              0,
              "#0d0887"
             ],
             [
              0.1111111111111111,
              "#46039f"
             ],
             [
              0.2222222222222222,
              "#7201a8"
             ],
             [
              0.3333333333333333,
              "#9c179e"
             ],
             [
              0.4444444444444444,
              "#bd3786"
             ],
             [
              0.5555555555555556,
              "#d8576b"
             ],
             [
              0.6666666666666666,
              "#ed7953"
             ],
             [
              0.7777777777777778,
              "#fb9f3a"
             ],
             [
              0.8888888888888888,
              "#fdca26"
             ],
             [
              1,
              "#f0f921"
             ]
            ],
            "type": "surface"
           }
          ],
          "table": [
           {
            "cells": {
             "fill": {
              "color": "#EBF0F8"
             },
             "line": {
              "color": "white"
             }
            },
            "header": {
             "fill": {
              "color": "#C8D4E3"
             },
             "line": {
              "color": "white"
             }
            },
            "type": "table"
           }
          ]
         },
         "layout": {
          "annotationdefaults": {
           "arrowcolor": "#2a3f5f",
           "arrowhead": 0,
           "arrowwidth": 1
          },
          "coloraxis": {
           "colorbar": {
            "outlinewidth": 0,
            "ticks": ""
           }
          },
          "colorscale": {
           "diverging": [
            [
             0,
             "#8e0152"
            ],
            [
             0.1,
             "#c51b7d"
            ],
            [
             0.2,
             "#de77ae"
            ],
            [
             0.3,
             "#f1b6da"
            ],
            [
             0.4,
             "#fde0ef"
            ],
            [
             0.5,
             "#f7f7f7"
            ],
            [
             0.6,
             "#e6f5d0"
            ],
            [
             0.7,
             "#b8e186"
            ],
            [
             0.8,
             "#7fbc41"
            ],
            [
             0.9,
             "#4d9221"
            ],
            [
             1,
             "#276419"
            ]
           ],
           "sequential": [
            [
             0,
             "#0d0887"
            ],
            [
             0.1111111111111111,
             "#46039f"
            ],
            [
             0.2222222222222222,
             "#7201a8"
            ],
            [
             0.3333333333333333,
             "#9c179e"
            ],
            [
             0.4444444444444444,
             "#bd3786"
            ],
            [
             0.5555555555555556,
             "#d8576b"
            ],
            [
             0.6666666666666666,
             "#ed7953"
            ],
            [
             0.7777777777777778,
             "#fb9f3a"
            ],
            [
             0.8888888888888888,
             "#fdca26"
            ],
            [
             1,
             "#f0f921"
            ]
           ],
           "sequentialminus": [
            [
             0,
             "#0d0887"
            ],
            [
             0.1111111111111111,
             "#46039f"
            ],
            [
             0.2222222222222222,
             "#7201a8"
            ],
            [
             0.3333333333333333,
             "#9c179e"
            ],
            [
             0.4444444444444444,
             "#bd3786"
            ],
            [
             0.5555555555555556,
             "#d8576b"
            ],
            [
             0.6666666666666666,
             "#ed7953"
            ],
            [
             0.7777777777777778,
             "#fb9f3a"
            ],
            [
             0.8888888888888888,
             "#fdca26"
            ],
            [
             1,
             "#f0f921"
            ]
           ]
          },
          "colorway": [
           "#636efa",
           "#EF553B",
           "#00cc96",
           "#ab63fa",
           "#FFA15A",
           "#19d3f3",
           "#FF6692",
           "#B6E880",
           "#FF97FF",
           "#FECB52"
          ],
          "font": {
           "color": "#2a3f5f"
          },
          "geo": {
           "bgcolor": "white",
           "lakecolor": "white",
           "landcolor": "#E5ECF6",
           "showlakes": true,
           "showland": true,
           "subunitcolor": "white"
          },
          "hoverlabel": {
           "align": "left"
          },
          "hovermode": "closest",
          "mapbox": {
           "style": "light"
          },
          "paper_bgcolor": "white",
          "plot_bgcolor": "#E5ECF6",
          "polar": {
           "angularaxis": {
            "gridcolor": "white",
            "linecolor": "white",
            "ticks": ""
           },
           "bgcolor": "#E5ECF6",
           "radialaxis": {
            "gridcolor": "white",
            "linecolor": "white",
            "ticks": ""
           }
          },
          "scene": {
           "xaxis": {
            "backgroundcolor": "#E5ECF6",
            "gridcolor": "white",
            "gridwidth": 2,
            "linecolor": "white",
            "showbackground": true,
            "ticks": "",
            "zerolinecolor": "white"
           },
           "yaxis": {
            "backgroundcolor": "#E5ECF6",
            "gridcolor": "white",
            "gridwidth": 2,
            "linecolor": "white",
            "showbackground": true,
            "ticks": "",
            "zerolinecolor": "white"
           },
           "zaxis": {
            "backgroundcolor": "#E5ECF6",
            "gridcolor": "white",
            "gridwidth": 2,
            "linecolor": "white",
            "showbackground": true,
            "ticks": "",
            "zerolinecolor": "white"
           }
          },
          "shapedefaults": {
           "line": {
            "color": "#2a3f5f"
           }
          },
          "ternary": {
           "aaxis": {
            "gridcolor": "white",
            "linecolor": "white",
            "ticks": ""
           },
           "baxis": {
            "gridcolor": "white",
            "linecolor": "white",
            "ticks": ""
           },
           "bgcolor": "#E5ECF6",
           "caxis": {
            "gridcolor": "white",
            "linecolor": "white",
            "ticks": ""
           }
          },
          "title": {
           "x": 0.05
          },
          "xaxis": {
           "automargin": true,
           "gridcolor": "white",
           "linecolor": "white",
           "ticks": "",
           "title": {
            "standoff": 15
           },
           "zerolinecolor": "white",
           "zerolinewidth": 2
          },
          "yaxis": {
           "automargin": true,
           "gridcolor": "white",
           "linecolor": "white",
           "ticks": "",
           "title": {
            "standoff": 15
           },
           "zerolinecolor": "white",
           "zerolinewidth": 2
          }
         }
        },
        "xaxis": {
         "anchor": "y",
         "domain": [
          0,
          1
         ],
         "title": {
          "text": "Age"
         }
        },
        "yaxis": {
         "anchor": "x",
         "domain": [
          0,
          1
         ],
         "title": {
          "text": "Cholesterol"
         }
        }
       }
      },
      "text/html": [
       "<div>\n",
       "        \n",
       "        \n",
       "            <div id=\"61e6483c-2301-4edd-9243-e525d499be5c\" class=\"plotly-graph-div\" style=\"height:525px; width:100%;\"></div>\n",
       "            <script type=\"text/javascript\">\n",
       "                require([\"plotly\"], function(Plotly) {\n",
       "                    window.PLOTLYENV=window.PLOTLYENV || {};\n",
       "                    \n",
       "                if (document.getElementById(\"61e6483c-2301-4edd-9243-e525d499be5c\")) {\n",
       "                    Plotly.newPlot(\n",
       "                        '61e6483c-2301-4edd-9243-e525d499be5c',\n",
       "                        [{\"hovertemplate\": \"Age=%{x}<br>Cholesterol=%{y}<extra></extra>\", \"legendgroup\": \"\", \"marker\": {\"color\": \"#636efa\", \"symbol\": \"circle\"}, \"mode\": \"markers\", \"name\": \"\", \"orientation\": \"v\", \"showlegend\": false, \"type\": \"scatter\", \"x\": [74, 68, 21, 66, 37, 43, 63, 13, 58, 46, 35, 38, 65, 57, 26, 49, 74, 62, 26, 56, 47, 60, 26, 76, 61, 42, 64, 53, 71, 29, 31, 59, 34, 37, 28, 68, 45, 61, 51, 52, 22, 76, 57, 31, 66, 76, 36, 18, 65, 41, 41, 76, 36, 24, 43, 56, 36, 82, 31, 30, 65, 47, 84, 31, 47, 36, 61, 49, 35, 63, 52, 71, 52, 76, 34, 69, 10, 59, 50, 37, 83, 68, 38, 57, 45, 32, 80, 51, 46, 44, 28, 56, 34, 61, 86, 40, 73, 14, 29, 51, 46, 48, 40, 42, 40, 61, 51, 74, 32, 68, 16, 58, 96, 22, 42, 57, 67, 36, 10, 77, 68, 37, 63, 102, 89, 42, 33, 68, 30, 81, 53, 71, 51, 52, 19, 63, 36, 41, 45, 74, 38, 47, 71, 81, 65, 56, 32, 42, 57, 23, 31, 82, 64, 71, 66, 56, 44, 60, 51, 41, 61, 29, 47, 41, 37, 55, 33, 47, 55, 27, 42, 97, 56, 13, 27, 73, 63, 18, 41, 26, 32, 62, 51, 28, 41, 56, 78, 82, 45, 78, 61, 82, 63, 104, 28, 46, 52, 61, 23, 84, 60, 42, 73, 42, 40, 50, 64, 81, 76, 52, 57, 64, 36, 65, 53, 29, 55, 32, 56, 46, 60, 39, 59, 66, 78, 25, 67, 58, 52, 60, 32, 49, 68, 52, 62, 69, 49, 57, 64, 77, 60, 45, 86, 62, 43, 47, 57, 55, 39, 45, 37, 18, 62, 41, 50, 48, 55, 54, 48, 64, 35, 29, 73, 74, 85, 62, 39, 18, 23, 55, 41, 33, 74, 79, 44, 35, 65, 58, 32, 65, 17, 74, 54, 45, 70, 27, 52, 84, 69, 60, 28, 32, 42, 36, 71, 68, 46, 70, 2, 103], \"xaxis\": \"x\", \"y\": [6.7, 6.7, 5.0, 3.7, 10.3, 2.4, 4.0, 9.1, 4.1, 6.0, 6.1, 8.4, 6.0, 5.3, 3.5, 6.7, 6.1, 6.9, 4.2, 5.2, 7.3, 7.2, 5.4, 6.3, 8.2, 7.0, 5.0, 9.3, 5.6, 12.3, 4.2, 3.8, 6.9, 4.9, 4.9, 5.8, 3.7, 8.8, 6.5, 1.4, 5.1, 6.1, 1.1, 4.8, 5.1, 3.8, 8.4, 2.6, 7.4, 8.1, 5.2, 6.6, 4.2, 5.2, 5.2, 10.0, 7.9, 6.5, 7.3, 4.5, 7.5, 6.3, 7.6, 6.2, 8.6, 4.2, 8.0, 1.9, 6.5, 3.8, 5.7, 6.7, 6.7, 5.0, 7.0, 9.0, 8.6, 8.0, 7.0, 3.6, 3.8, 3.8, 6.6, 6.5, 5.2, 8.0, 7.7, 6.1, 3.4, 6.0, 3.2, 2.7, 5.6, 6.7, 4.7, 7.2, 3.7, 5.5, 5.4, 6.1, 5.6, 5.8, 7.5, 7.2, 5.6, 7.0, 4.4, 5.4, 5.0, 4.9, 4.6, 8.1, 8.5, 2.2, 11.7, 7.0, 5.0, 6.5, 5.7, 5.0, 5.5, 8.5, 4.6, 7.8, 4.1, 6.0, 8.0, 1.3, 8.1, 7.4, 7.9, 6.0, 8.1, 8.2, 6.6, 8.4, 4.5, 6.3, 7.4, 10.3, 6.0, 6.7, 4.8, 7.2, 7.4, 7.5, 4.3, 5.6, 6.2, 9.3, 7.2, 5.8, 5.1, 7.9, 6.0, 6.2, 7.1, 7.3, 4.8, 5.4, 5.5, 5.5, 4.9, 5.2, 4.6, 5.3, 3.1, 2.3, 10.0, 5.1, 6.2, 5.9, 3.7, 6.7, 6.4, 6.9, 4.7, 6.4, 7.1, 5.2, 6.9, 2.9, 4.7, 4.1, 7.5, 4.2, 8.4, 6.1, 9.2, 6.8, 5.8, 2.3, 6.2, 8.8, 4.0, 5.4, 6.7, 4.5, 4.3, 6.9, 6.2, 6.0, 5.2, 2.2, 8.5, 6.2, 5.5, 7.8, 4.3, 9.8, 8.8, 4.8, 5.1, 3.9, 7.1, 6.6, 6.0, 5.7, 2.0, 3.6, 2.7, 6.6, 5.0, 8.0, 6.4, 7.0, 7.1, 5.5, 7.0, 8.7, 7.5, 5.4, 7.5, 6.2, 5.5, 8.9, 4.8, 5.2, 6.1, 5.9, 7.6, 8.1, 5.0, 4.3, 9.1, 6.1, 10.5, 7.0, 7.7, 4.3, 2.9, 3.8, 2.6, 1.7, 4.0, 7.1, 5.1, 6.6, 9.5, 5.3, 5.3, 1.1, 5.9, 8.7, 7.6, 5.0, 5.9, 4.0, 6.6, 5.1, 6.2, 7.4, 8.3, 3.6, 5.4, 3.7, 3.2, 6.1, 3.9, 8.3, 5.0, 8.4, 6.1, 7.1, 4.2, 7.6, 10.6, 7.6, 7.5, 5.8, 5.5, 3.0, 4.9, 6.5, 7.4, 6.6, 10.1, 4.5, 4.3, 3.9], \"yaxis\": \"y\"}, {\"hovertemplate\": \"<b>OLS trendline</b><br>Cholesterol = 0.00800614 * Age + 5.59411<br>R<sup>2</sup>=0.006170<br><br>Age=%{x}<br>Cholesterol=%{y} <b>(trend)</b><extra></extra>\", \"legendgroup\": \"\", \"marker\": {\"color\": \"#636efa\", \"symbol\": \"circle\"}, \"mode\": \"lines\", \"name\": \"\", \"showlegend\": false, \"type\": \"scatter\", \"x\": [2, 10, 10, 13, 13, 14, 16, 17, 18, 18, 18, 18, 19, 21, 22, 22, 23, 23, 23, 24, 25, 26, 26, 26, 26, 27, 27, 27, 28, 28, 28, 28, 28, 29, 29, 29, 29, 29, 30, 30, 31, 31, 31, 31, 31, 32, 32, 32, 32, 32, 32, 32, 32, 33, 33, 33, 34, 34, 34, 35, 35, 35, 35, 36, 36, 36, 36, 36, 36, 36, 36, 37, 37, 37, 37, 37, 37, 38, 38, 38, 39, 39, 39, 40, 40, 40, 40, 41, 41, 41, 41, 41, 41, 41, 41, 41, 42, 42, 42, 42, 42, 42, 42, 42, 42, 43, 43, 43, 44, 44, 44, 45, 45, 45, 45, 45, 45, 45, 46, 46, 46, 46, 46, 46, 47, 47, 47, 47, 47, 47, 47, 48, 48, 48, 49, 49, 49, 49, 50, 50, 50, 51, 51, 51, 51, 51, 51, 51, 52, 52, 52, 52, 52, 52, 52, 52, 52, 53, 53, 53, 54, 54, 55, 55, 55, 55, 55, 55, 56, 56, 56, 56, 56, 56, 56, 56, 57, 57, 57, 57, 57, 57, 57, 57, 58, 58, 58, 58, 59, 59, 59, 60, 60, 60, 60, 60, 60, 60, 61, 61, 61, 61, 61, 61, 61, 61, 62, 62, 62, 62, 62, 62, 63, 63, 63, 63, 63, 63, 64, 64, 64, 64, 64, 64, 65, 65, 65, 65, 65, 65, 65, 66, 66, 66, 66, 67, 67, 68, 68, 68, 68, 68, 68, 68, 68, 69, 69, 69, 70, 70, 71, 71, 71, 71, 71, 71, 73, 73, 73, 73, 74, 74, 74, 74, 74, 74, 74, 76, 76, 76, 76, 76, 76, 77, 77, 78, 78, 78, 79, 80, 81, 81, 81, 82, 82, 82, 82, 83, 84, 84, 84, 85, 86, 86, 89, 96, 97, 102, 103, 104], \"xaxis\": \"x\", \"y\": [5.610121880811452, 5.674171026609121, 5.674171026609121, 5.698189456283247, 5.698189456283247, 5.706195599507955, 5.722207885957372, 5.730214029182082, 5.73822017240679, 5.73822017240679, 5.73822017240679, 5.73822017240679, 5.746226315631499, 5.762238602080916, 5.770244745305624, 5.770244745305624, 5.778250888530334, 5.778250888530334, 5.778250888530334, 5.786257031755042, 5.794263174979751, 5.802269318204459, 5.802269318204459, 5.802269318204459, 5.802269318204459, 5.810275461429168, 5.810275461429168, 5.810275461429168, 5.818281604653876, 5.818281604653876, 5.818281604653876, 5.818281604653876, 5.818281604653876, 5.826287747878585, 5.826287747878585, 5.826287747878585, 5.826287747878585, 5.826287747878585, 5.834293891103294, 5.834293891103294, 5.8423000343280025, 5.8423000343280025, 5.8423000343280025, 5.8423000343280025, 5.8423000343280025, 5.850306177552711, 5.850306177552711, 5.850306177552711, 5.850306177552711, 5.850306177552711, 5.850306177552711, 5.850306177552711, 5.850306177552711, 5.8583123207774195, 5.8583123207774195, 5.8583123207774195, 5.866318464002128, 5.866318464002128, 5.866318464002128, 5.8743246072268365, 5.8743246072268365, 5.8743246072268365, 5.8743246072268365, 5.882330750451546, 5.882330750451546, 5.882330750451546, 5.882330750451546, 5.882330750451546, 5.882330750451546, 5.882330750451546, 5.882330750451546, 5.890336893676254, 5.890336893676254, 5.890336893676254, 5.890336893676254, 5.890336893676254, 5.890336893676254, 5.898343036900963, 5.898343036900963, 5.898343036900963, 5.906349180125671, 5.906349180125671, 5.906349180125671, 5.91435532335038, 5.91435532335038, 5.91435532335038, 5.91435532335038, 5.922361466575088, 5.922361466575088, 5.922361466575088, 5.922361466575088, 5.922361466575088, 5.922361466575088, 5.922361466575088, 5.922361466575088, 5.922361466575088, 5.930367609799797, 5.930367609799797, 5.930367609799797, 5.930367609799797, 5.930367609799797, 5.930367609799797, 5.930367609799797, 5.930367609799797, 5.930367609799797, 5.938373753024506, 5.938373753024506, 5.938373753024506, 5.946379896249215, 5.946379896249215, 5.946379896249215, 5.954386039473923, 5.954386039473923, 5.954386039473923, 5.954386039473923, 5.954386039473923, 5.954386039473923, 5.954386039473923, 5.962392182698632, 5.962392182698632, 5.962392182698632, 5.962392182698632, 5.962392182698632, 5.962392182698632, 5.97039832592334, 5.97039832592334, 5.97039832592334, 5.97039832592334, 5.97039832592334, 5.97039832592334, 5.97039832592334, 5.978404469148049, 5.978404469148049, 5.978404469148049, 5.986410612372757, 5.986410612372757, 5.986410612372757, 5.986410612372757, 5.994416755597467, 5.994416755597467, 5.994416755597467, 6.002422898822175, 6.002422898822175, 6.002422898822175, 6.002422898822175, 6.002422898822175, 6.002422898822175, 6.002422898822175, 6.0104290420468836, 6.0104290420468836, 6.0104290420468836, 6.0104290420468836, 6.0104290420468836, 6.0104290420468836, 6.0104290420468836, 6.0104290420468836, 6.0104290420468836, 6.018435185271592, 6.018435185271592, 6.018435185271592, 6.0264413284963005, 6.0264413284963005, 6.034447471721009, 6.034447471721009, 6.034447471721009, 6.034447471721009, 6.034447471721009, 6.034447471721009, 6.0424536149457175, 6.0424536149457175, 6.0424536149457175, 6.0424536149457175, 6.0424536149457175, 6.0424536149457175, 6.0424536149457175, 6.0424536149457175, 6.050459758170427, 6.050459758170427, 6.050459758170427, 6.050459758170427, 6.050459758170427, 6.050459758170427, 6.050459758170427, 6.050459758170427, 6.058465901395135, 6.058465901395135, 6.058465901395135, 6.058465901395135, 6.066472044619844, 6.066472044619844, 6.066472044619844, 6.074478187844552, 6.074478187844552, 6.074478187844552, 6.074478187844552, 6.074478187844552, 6.074478187844552, 6.074478187844552, 6.082484331069261, 6.082484331069261, 6.082484331069261, 6.082484331069261, 6.082484331069261, 6.082484331069261, 6.082484331069261, 6.082484331069261, 6.090490474293969, 6.090490474293969, 6.090490474293969, 6.090490474293969, 6.090490474293969, 6.090490474293969, 6.098496617518679, 6.098496617518679, 6.098496617518679, 6.098496617518679, 6.098496617518679, 6.098496617518679, 6.106502760743387, 6.106502760743387, 6.106502760743387, 6.106502760743387, 6.106502760743387, 6.106502760743387, 6.114508903968096, 6.114508903968096, 6.114508903968096, 6.114508903968096, 6.114508903968096, 6.114508903968096, 6.114508903968096, 6.122515047192804, 6.122515047192804, 6.122515047192804, 6.122515047192804, 6.130521190417513, 6.130521190417513, 6.138527333642221, 6.138527333642221, 6.138527333642221, 6.138527333642221, 6.138527333642221, 6.138527333642221, 6.138527333642221, 6.138527333642221, 6.14653347686693, 6.14653347686693, 6.14653347686693, 6.154539620091639, 6.154539620091639, 6.162545763316348, 6.162545763316348, 6.162545763316348, 6.162545763316348, 6.162545763316348, 6.162545763316348, 6.178558049765765, 6.178558049765765, 6.178558049765765, 6.178558049765765, 6.186564192990473, 6.186564192990473, 6.186564192990473, 6.186564192990473, 6.186564192990473, 6.186564192990473, 6.186564192990473, 6.202576479439891, 6.202576479439891, 6.202576479439891, 6.202576479439891, 6.202576479439891, 6.202576479439891, 6.2105826226645995, 6.2105826226645995, 6.218588765889308, 6.218588765889308, 6.218588765889308, 6.2265949091140165, 6.234601052338725, 6.2426071955634335, 6.2426071955634335, 6.2426071955634335, 6.250613338788142, 6.250613338788142, 6.250613338788142, 6.250613338788142, 6.258619482012851, 6.26662562523756, 6.26662562523756, 6.26662562523756, 6.274631768462268, 6.282637911686977, 6.282637911686977, 6.306656341361103, 6.362699343934064, 6.370705487158772, 6.410736203282315, 6.418742346507024, 6.426748489731732], \"yaxis\": \"y\"}],\n",
       "                        {\"legend\": {\"tracegroupgap\": 0}, \"margin\": {\"t\": 60}, \"template\": {\"data\": {\"bar\": [{\"error_x\": {\"color\": \"#2a3f5f\"}, \"error_y\": {\"color\": \"#2a3f5f\"}, \"marker\": {\"line\": {\"color\": \"#E5ECF6\", \"width\": 0.5}}, \"type\": \"bar\"}], \"barpolar\": [{\"marker\": {\"line\": {\"color\": \"#E5ECF6\", \"width\": 0.5}}, \"type\": \"barpolar\"}], \"carpet\": [{\"aaxis\": {\"endlinecolor\": \"#2a3f5f\", \"gridcolor\": \"white\", \"linecolor\": \"white\", \"minorgridcolor\": \"white\", \"startlinecolor\": \"#2a3f5f\"}, \"baxis\": {\"endlinecolor\": \"#2a3f5f\", \"gridcolor\": \"white\", \"linecolor\": \"white\", \"minorgridcolor\": \"white\", \"startlinecolor\": \"#2a3f5f\"}, \"type\": \"carpet\"}], \"choropleth\": [{\"colorbar\": {\"outlinewidth\": 0, \"ticks\": \"\"}, \"type\": \"choropleth\"}], \"contour\": [{\"colorbar\": {\"outlinewidth\": 0, \"ticks\": \"\"}, \"colorscale\": [[0.0, \"#0d0887\"], [0.1111111111111111, \"#46039f\"], [0.2222222222222222, \"#7201a8\"], [0.3333333333333333, \"#9c179e\"], [0.4444444444444444, \"#bd3786\"], [0.5555555555555556, \"#d8576b\"], [0.6666666666666666, \"#ed7953\"], [0.7777777777777778, \"#fb9f3a\"], [0.8888888888888888, \"#fdca26\"], [1.0, \"#f0f921\"]], \"type\": \"contour\"}], \"contourcarpet\": [{\"colorbar\": {\"outlinewidth\": 0, \"ticks\": \"\"}, \"type\": \"contourcarpet\"}], \"heatmap\": [{\"colorbar\": {\"outlinewidth\": 0, \"ticks\": \"\"}, \"colorscale\": [[0.0, \"#0d0887\"], [0.1111111111111111, \"#46039f\"], [0.2222222222222222, \"#7201a8\"], [0.3333333333333333, \"#9c179e\"], [0.4444444444444444, \"#bd3786\"], [0.5555555555555556, \"#d8576b\"], [0.6666666666666666, \"#ed7953\"], [0.7777777777777778, \"#fb9f3a\"], [0.8888888888888888, \"#fdca26\"], [1.0, \"#f0f921\"]], \"type\": \"heatmap\"}], \"heatmapgl\": [{\"colorbar\": {\"outlinewidth\": 0, \"ticks\": \"\"}, \"colorscale\": [[0.0, \"#0d0887\"], [0.1111111111111111, \"#46039f\"], [0.2222222222222222, \"#7201a8\"], [0.3333333333333333, \"#9c179e\"], [0.4444444444444444, \"#bd3786\"], [0.5555555555555556, \"#d8576b\"], [0.6666666666666666, \"#ed7953\"], [0.7777777777777778, \"#fb9f3a\"], [0.8888888888888888, \"#fdca26\"], [1.0, \"#f0f921\"]], \"type\": \"heatmapgl\"}], \"histogram\": [{\"marker\": {\"colorbar\": {\"outlinewidth\": 0, \"ticks\": \"\"}}, \"type\": \"histogram\"}], \"histogram2d\": [{\"colorbar\": {\"outlinewidth\": 0, \"ticks\": \"\"}, \"colorscale\": [[0.0, \"#0d0887\"], [0.1111111111111111, \"#46039f\"], [0.2222222222222222, \"#7201a8\"], [0.3333333333333333, \"#9c179e\"], [0.4444444444444444, \"#bd3786\"], [0.5555555555555556, \"#d8576b\"], [0.6666666666666666, \"#ed7953\"], [0.7777777777777778, \"#fb9f3a\"], [0.8888888888888888, \"#fdca26\"], [1.0, \"#f0f921\"]], \"type\": \"histogram2d\"}], \"histogram2dcontour\": [{\"colorbar\": {\"outlinewidth\": 0, \"ticks\": \"\"}, \"colorscale\": [[0.0, \"#0d0887\"], [0.1111111111111111, \"#46039f\"], [0.2222222222222222, \"#7201a8\"], [0.3333333333333333, \"#9c179e\"], [0.4444444444444444, \"#bd3786\"], [0.5555555555555556, \"#d8576b\"], [0.6666666666666666, \"#ed7953\"], [0.7777777777777778, \"#fb9f3a\"], [0.8888888888888888, \"#fdca26\"], [1.0, \"#f0f921\"]], \"type\": \"histogram2dcontour\"}], \"mesh3d\": [{\"colorbar\": {\"outlinewidth\": 0, \"ticks\": \"\"}, \"type\": \"mesh3d\"}], \"parcoords\": [{\"line\": {\"colorbar\": {\"outlinewidth\": 0, \"ticks\": \"\"}}, \"type\": \"parcoords\"}], \"pie\": [{\"automargin\": true, \"type\": \"pie\"}], \"scatter\": [{\"marker\": {\"colorbar\": {\"outlinewidth\": 0, \"ticks\": \"\"}}, \"type\": \"scatter\"}], \"scatter3d\": [{\"line\": {\"colorbar\": {\"outlinewidth\": 0, \"ticks\": \"\"}}, \"marker\": {\"colorbar\": {\"outlinewidth\": 0, \"ticks\": \"\"}}, \"type\": \"scatter3d\"}], \"scattercarpet\": [{\"marker\": {\"colorbar\": {\"outlinewidth\": 0, \"ticks\": \"\"}}, \"type\": \"scattercarpet\"}], \"scattergeo\": [{\"marker\": {\"colorbar\": {\"outlinewidth\": 0, \"ticks\": \"\"}}, \"type\": \"scattergeo\"}], \"scattergl\": [{\"marker\": {\"colorbar\": {\"outlinewidth\": 0, \"ticks\": \"\"}}, \"type\": \"scattergl\"}], \"scattermapbox\": [{\"marker\": {\"colorbar\": {\"outlinewidth\": 0, \"ticks\": \"\"}}, \"type\": \"scattermapbox\"}], \"scatterpolar\": [{\"marker\": {\"colorbar\": {\"outlinewidth\": 0, \"ticks\": \"\"}}, \"type\": \"scatterpolar\"}], \"scatterpolargl\": [{\"marker\": {\"colorbar\": {\"outlinewidth\": 0, \"ticks\": \"\"}}, \"type\": \"scatterpolargl\"}], \"scatterternary\": [{\"marker\": {\"colorbar\": {\"outlinewidth\": 0, \"ticks\": \"\"}}, \"type\": \"scatterternary\"}], \"surface\": [{\"colorbar\": {\"outlinewidth\": 0, \"ticks\": \"\"}, \"colorscale\": [[0.0, \"#0d0887\"], [0.1111111111111111, \"#46039f\"], [0.2222222222222222, \"#7201a8\"], [0.3333333333333333, \"#9c179e\"], [0.4444444444444444, \"#bd3786\"], [0.5555555555555556, \"#d8576b\"], [0.6666666666666666, \"#ed7953\"], [0.7777777777777778, \"#fb9f3a\"], [0.8888888888888888, \"#fdca26\"], [1.0, \"#f0f921\"]], \"type\": \"surface\"}], \"table\": [{\"cells\": {\"fill\": {\"color\": \"#EBF0F8\"}, \"line\": {\"color\": \"white\"}}, \"header\": {\"fill\": {\"color\": \"#C8D4E3\"}, \"line\": {\"color\": \"white\"}}, \"type\": \"table\"}]}, \"layout\": {\"annotationdefaults\": {\"arrowcolor\": \"#2a3f5f\", \"arrowhead\": 0, \"arrowwidth\": 1}, \"coloraxis\": {\"colorbar\": {\"outlinewidth\": 0, \"ticks\": \"\"}}, \"colorscale\": {\"diverging\": [[0, \"#8e0152\"], [0.1, \"#c51b7d\"], [0.2, \"#de77ae\"], [0.3, \"#f1b6da\"], [0.4, \"#fde0ef\"], [0.5, \"#f7f7f7\"], [0.6, \"#e6f5d0\"], [0.7, \"#b8e186\"], [0.8, \"#7fbc41\"], [0.9, \"#4d9221\"], [1, \"#276419\"]], \"sequential\": [[0.0, \"#0d0887\"], [0.1111111111111111, \"#46039f\"], [0.2222222222222222, \"#7201a8\"], [0.3333333333333333, \"#9c179e\"], [0.4444444444444444, \"#bd3786\"], [0.5555555555555556, \"#d8576b\"], [0.6666666666666666, \"#ed7953\"], [0.7777777777777778, \"#fb9f3a\"], [0.8888888888888888, \"#fdca26\"], [1.0, \"#f0f921\"]], \"sequentialminus\": [[0.0, \"#0d0887\"], [0.1111111111111111, \"#46039f\"], [0.2222222222222222, \"#7201a8\"], [0.3333333333333333, \"#9c179e\"], [0.4444444444444444, \"#bd3786\"], [0.5555555555555556, \"#d8576b\"], [0.6666666666666666, \"#ed7953\"], [0.7777777777777778, \"#fb9f3a\"], [0.8888888888888888, \"#fdca26\"], [1.0, \"#f0f921\"]]}, \"colorway\": [\"#636efa\", \"#EF553B\", \"#00cc96\", \"#ab63fa\", \"#FFA15A\", \"#19d3f3\", \"#FF6692\", \"#B6E880\", \"#FF97FF\", \"#FECB52\"], \"font\": {\"color\": \"#2a3f5f\"}, \"geo\": {\"bgcolor\": \"white\", \"lakecolor\": \"white\", \"landcolor\": \"#E5ECF6\", \"showlakes\": true, \"showland\": true, \"subunitcolor\": \"white\"}, \"hoverlabel\": {\"align\": \"left\"}, \"hovermode\": \"closest\", \"mapbox\": {\"style\": \"light\"}, \"paper_bgcolor\": \"white\", \"plot_bgcolor\": \"#E5ECF6\", \"polar\": {\"angularaxis\": {\"gridcolor\": \"white\", \"linecolor\": \"white\", \"ticks\": \"\"}, \"bgcolor\": \"#E5ECF6\", \"radialaxis\": {\"gridcolor\": \"white\", \"linecolor\": \"white\", \"ticks\": \"\"}}, \"scene\": {\"xaxis\": {\"backgroundcolor\": \"#E5ECF6\", \"gridcolor\": \"white\", \"gridwidth\": 2, \"linecolor\": \"white\", \"showbackground\": true, \"ticks\": \"\", \"zerolinecolor\": \"white\"}, \"yaxis\": {\"backgroundcolor\": \"#E5ECF6\", \"gridcolor\": \"white\", \"gridwidth\": 2, \"linecolor\": \"white\", \"showbackground\": true, \"ticks\": \"\", \"zerolinecolor\": \"white\"}, \"zaxis\": {\"backgroundcolor\": \"#E5ECF6\", \"gridcolor\": \"white\", \"gridwidth\": 2, \"linecolor\": \"white\", \"showbackground\": true, \"ticks\": \"\", \"zerolinecolor\": \"white\"}}, \"shapedefaults\": {\"line\": {\"color\": \"#2a3f5f\"}}, \"ternary\": {\"aaxis\": {\"gridcolor\": \"white\", \"linecolor\": \"white\", \"ticks\": \"\"}, \"baxis\": {\"gridcolor\": \"white\", \"linecolor\": \"white\", \"ticks\": \"\"}, \"bgcolor\": \"#E5ECF6\", \"caxis\": {\"gridcolor\": \"white\", \"linecolor\": \"white\", \"ticks\": \"\"}}, \"title\": {\"x\": 0.05}, \"xaxis\": {\"automargin\": true, \"gridcolor\": \"white\", \"linecolor\": \"white\", \"ticks\": \"\", \"title\": {\"standoff\": 15}, \"zerolinecolor\": \"white\", \"zerolinewidth\": 2}, \"yaxis\": {\"automargin\": true, \"gridcolor\": \"white\", \"linecolor\": \"white\", \"ticks\": \"\", \"title\": {\"standoff\": 15}, \"zerolinecolor\": \"white\", \"zerolinewidth\": 2}}}, \"xaxis\": {\"anchor\": \"y\", \"domain\": [0.0, 1.0], \"title\": {\"text\": \"Age\"}}, \"yaxis\": {\"anchor\": \"x\", \"domain\": [0.0, 1.0], \"title\": {\"text\": \"Cholesterol\"}}},\n",
       "                        {\"responsive\": true}\n",
       "                    ).then(function(){\n",
       "                            \n",
       "var gd = document.getElementById('61e6483c-2301-4edd-9243-e525d499be5c');\n",
       "var x = new MutationObserver(function (mutations, observer) {{\n",
       "        var display = window.getComputedStyle(gd).display;\n",
       "        if (!display || display === 'none') {{\n",
       "            console.log([gd, 'removed!']);\n",
       "            Plotly.purge(gd);\n",
       "            observer.disconnect();\n",
       "        }}\n",
       "}});\n",
       "\n",
       "// Listen for the removal of the full notebook cells\n",
       "var notebookContainer = gd.closest('#notebook-container');\n",
       "if (notebookContainer) {{\n",
       "    x.observe(notebookContainer, {childList: true});\n",
       "}}\n",
       "\n",
       "// Listen for the clearing of the current output cell\n",
       "var outputEl = gd.closest('.output');\n",
       "if (outputEl) {{\n",
       "    x.observe(outputEl, {childList: true});\n",
       "}}\n",
       "\n",
       "                        })\n",
       "                };\n",
       "                });\n",
       "            </script>\n",
       "        </div>"
      ]
     },
     "metadata": {},
     "output_type": "display_data"
    }
   ],
   "source": [
    "px.scatter(df, x= \"Age\", y= \"Cholesterol\", trendline = \"ols\")"
   ]
  },
  {
   "cell_type": "code",
   "execution_count": 41,
   "metadata": {},
   "outputs": [
    {
     "data": {
      "text/plain": [
       "0.07854733899208126"
      ]
     },
     "execution_count": 41,
     "metadata": {},
     "output_type": "execute_result"
    }
   ],
   "source": [
    "df.Age.corr(df.Cholesterol, method = \"pearson\")"
   ]
  },
  {
   "cell_type": "code",
   "execution_count": null,
   "metadata": {},
   "outputs": [],
   "source": []
  }
 ],
 "metadata": {
  "kernelspec": {
   "display_name": "Python 3",
   "language": "python",
   "name": "python3"
  },
  "language_info": {
   "codemirror_mode": {
    "name": "ipython",
    "version": 3
   },
   "file_extension": ".py",
   "mimetype": "text/x-python",
   "name": "python",
   "nbconvert_exporter": "python",
   "pygments_lexer": "ipython3",
   "version": "3.8.5"
  }
 },
 "nbformat": 4,
 "nbformat_minor": 4
}
